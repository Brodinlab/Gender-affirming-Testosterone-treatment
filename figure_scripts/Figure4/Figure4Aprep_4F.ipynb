{
 "cells": [
  {
   "cell_type": "code",
   "execution_count": 1,
   "id": "b8908715-d805-4192-85e6-f42054efe227",
   "metadata": {},
   "outputs": [],
   "source": [
    "import anndata as ad\n",
    "import numpy as np\n",
    "import pandas as pd\n",
    "import scanpy as sc\n",
    "import seaborn as sns\n",
    "import matplotlib.pyplot as plt\n",
    "import scipy\n",
    "import scipy.stats as stats\n",
    "\n",
    "from matplotlib import rcParams\n",
    "from tqdm import tqdm\n",
    "\n",
    "\n",
    "#import warnings\n",
    "#warnings.filterwarnings(\"ignore\")"
   ]
  },
  {
   "cell_type": "code",
   "execution_count": null,
   "id": "7f25acc9-5cf3-43ff-9da7-f576fb7585ab",
   "metadata": {},
   "outputs": [],
   "source": []
  },
  {
   "cell_type": "markdown",
   "id": "513a486c-03f7-4bc5-889c-16ff5dd43128",
   "metadata": {},
   "source": [
    "# Paths to data"
   ]
  },
  {
   "cell_type": "code",
   "execution_count": 4,
   "id": "068cba91-bc05-49a5-abd6-7a828d99e927",
   "metadata": {},
   "outputs": [],
   "source": [
    "r848_v1_path = 'insert datapath here to ./scRNAseq_data/r848_v1.h5ad'\n",
    "r848_v2_path = 'insert datapath here to ./scRNAseq_data/r848_v2.h5ad'\n",
    "\n",
    "ntc_v1_path = 'insert datapath here to ./scRNAseq_data/ntc_v1.h5ad'\n",
    "ntc_v2_path = 'insert datapath here to ./scRNAseq_data/ntc_v2.h5ad'\n",
    "\n",
    "lps_v1_path = 'insert datapath here to ./scRNAseq_data/lps_v1.h5ad'\n",
    "lps_v2_path = 'insert datapath here to ./scRNAseq_data/lps_v2.h5ad'\n"
   ]
  },
  {
   "cell_type": "code",
   "execution_count": null,
   "id": "140d6a31-506e-49da-bf85-091b054119cf",
   "metadata": {},
   "outputs": [],
   "source": []
  },
  {
   "cell_type": "markdown",
   "id": "1446b62e-40b4-41a7-ad07-4ced89de403f",
   "metadata": {
    "tags": []
   },
   "source": [
    "# Figure 4a - preparing for NicheNet"
   ]
  },
  {
   "cell_type": "code",
   "execution_count": 7,
   "id": "e9f6b1e5-f882-40cf-af69-72a631fd1e99",
   "metadata": {},
   "outputs": [
    {
     "name": "stderr",
     "output_type": "stream",
     "text": [
      "/Users/rikardforlin/opt/miniconda3/envs/minic/lib/python3.10/site-packages/anndata/_core/anndata.py:1828: UserWarning: Observation names are not unique. To make them unique, call `.obs_names_make_unique`.\n",
      "  utils.warn_names_duplicates(\"obs\")\n"
     ]
    }
   ],
   "source": [
    "#For LPS-pathways, monocyte influence of NK and CD8T cells\n",
    "V1 = sc.read(lps_v1_path)\n",
    "V2 = sc.read(lps_v2_path)\n",
    "V1.obs['V'] = 'V1'\n",
    "V2.obs['V'] = 'V2'\n",
    "V1.var_names_make_unique()\n",
    "V2.var_names_make_unique()\n",
    "V1.obs_names_make_unique()\n",
    "V2.obs_names_make_unique()\n",
    "\n",
    "\n",
    "add = ad.concat([V1, V2])\n",
    "add.obs_names_make_unique()\n",
    "\n",
    "\n",
    "df = add.to_df()\n",
    "\n",
    "#Filtering some genes, with counts < 3k\n",
    "summ = np.sum(df, axis = 0)\n",
    "summ = summ[summ > 3000]\n",
    "\n",
    "df = df[summ.index]\n",
    "df_meta = add.obs\n",
    "\n",
    "df.to_csv('insert pathway to later be read in R')\n",
    "df_meta.to_csv('insert pathway to later be read in R')\n",
    "\n",
    "#... and off to NicheNet_Figure4A.R we go"
   ]
  },
  {
   "cell_type": "code",
   "execution_count": null,
   "id": "8c1364d6-19af-4659-bf34-bb5731c68ad2",
   "metadata": {},
   "outputs": [],
   "source": []
  },
  {
   "cell_type": "markdown",
   "id": "9a5dae69-bbc9-454a-8c49-4eff8a026426",
   "metadata": {},
   "source": [
    "#### Get the ct with the largest change in NicheNet targets"
   ]
  },
  {
   "cell_type": "code",
   "execution_count": 31,
   "id": "89287cca-2b43-487b-abaf-c35c9b2ea66e",
   "metadata": {},
   "outputs": [],
   "source": [
    "target_list = [\n",
    "    \"GZMB\", \"IFNG\", \"SOCS1\", \"CD38\", \"ABCB1\", \"IL2RA\", \"PRF1\", \n",
    "    \"IRF4\", \"RUNX3\", \"KLRD1\", \"STAT4\", \"CDK6\", \"IL12RB2\", \"NKG7\", \"IL15RA\"\n",
    "]"
   ]
  },
  {
   "cell_type": "code",
   "execution_count": 35,
   "id": "51ee70fe-f36f-48cf-8c7f-74c3680d3c10",
   "metadata": {},
   "outputs": [],
   "source": [
    "max_gene_value = {}\n",
    "max_gene_ct = {}\n",
    "\n",
    "df1 = add[(add.obs.V == 'V1') & (add.obs.CellType == 'NK')].to_df()\n",
    "df2 = add[(add.obs.V == 'V2') & (add.obs.CellType == 'NK')].to_df()\n",
    "for gene in target_list:\n",
    "    gene_value = np.mean(df2[gene]) - np.mean(df1[gene])\n",
    "    max_gene_value[gene] = gene_value\n",
    "    max_gene_ct[gene] = 'NK'\n",
    "    \n",
    "\n",
    "df1 = add[(add.obs.V == 'V1') & (add.obs.CellType == 'CD8T')].to_df()\n",
    "df2 = add[(add.obs.V == 'V2') & (add.obs.CellType == 'CD8T')].to_df()\n",
    "for gene in target_list:\n",
    "    gene_value = np.mean(df2[gene]) - np.mean(df1[gene])\n",
    "\n",
    "    if max_gene_value[gene] < gene_value:\n",
    "        max_gene_value[gene] = gene_value\n",
    "        max_gene_ct[gene] = ct\n"
   ]
  },
  {
   "cell_type": "code",
   "execution_count": 36,
   "id": "ed4fa315-d8c0-4b3f-b74d-017a6321a6c4",
   "metadata": {},
   "outputs": [
    {
     "data": {
      "text/plain": [
       "{'GZMB': 'NK',\n",
       " 'IFNG': 'NK',\n",
       " 'SOCS1': 'CD8T',\n",
       " 'CD38': 'NK',\n",
       " 'ABCB1': 'NK',\n",
       " 'IL2RA': 'NK',\n",
       " 'PRF1': 'NK',\n",
       " 'IRF4': 'NK',\n",
       " 'RUNX3': 'CD8T',\n",
       " 'KLRD1': 'NK',\n",
       " 'STAT4': 'NK',\n",
       " 'CDK6': 'NK',\n",
       " 'IL12RB2': 'NK',\n",
       " 'NKG7': 'NK',\n",
       " 'IL15RA': 'NK'}"
      ]
     },
     "execution_count": 36,
     "metadata": {},
     "output_type": "execute_result"
    }
   ],
   "source": [
    "max_gene_ct"
   ]
  },
  {
   "cell_type": "code",
   "execution_count": null,
   "id": "62bd94db-f853-4902-8f36-2b9fc9d75e43",
   "metadata": {},
   "outputs": [],
   "source": []
  },
  {
   "cell_type": "markdown",
   "id": "9cfd0235-f1ce-43c3-a55e-904d66723e86",
   "metadata": {},
   "source": [
    "# Figure 4f - NK cells IL12RB1 and IL12RB2"
   ]
  },
  {
   "cell_type": "code",
   "execution_count": 3,
   "id": "7b2b80f2-fb96-4c04-949f-6b90a8f633a9",
   "metadata": {},
   "outputs": [],
   "source": [
    "lps_v1 = sc.read_h5ad(lps_v1_path)\n",
    "lps_v2 = sc.read_h5ad(lps_v2_path)\n",
    "\n",
    "\n",
    "sc.pp.normalize_total(lps_v1, target_sum=1e4)\n",
    "sc.pp.normalize_total(lps_v2, target_sum=1e4)\n",
    "\n",
    "ct = 'NK'\n",
    "stim_v1 = lps_v1[lps_v1.obs.CellType == ct].to_df() \n",
    "stim_v2 = lps_v2[lps_v2.obs.CellType == ct].to_df()\n",
    "\n",
    "stim_v1 = stim_v1.groupby(axis=1, level=0).sum()\n",
    "stim_v2 = stim_v2.groupby(axis=1, level=0).sum()\n",
    "\n",
    "stim_v1 = stim_v1[stim_v1.columns[stim_v1.columns.isin(stim_v2.columns)]]\n",
    "stim_v2 = stim_v2[stim_v2.columns[stim_v2.columns.isin(stim_v1.columns)]]"
   ]
  },
  {
   "cell_type": "code",
   "execution_count": 4,
   "id": "59edadee-cecf-41ed-9a2f-c170e6845cce",
   "metadata": {},
   "outputs": [],
   "source": [
    "\n",
    "v1bar = pd.DataFrame({'gene': ['IL12RB1', 'IL12RB2'], 'value': [np.mean(np.log1p(stim_v1['IL12RB1'])), np.mean(np.log1p(stim_v1['IL12RB2']))], 'V':['V1', 'V1']})\n",
    "v2bar = pd.DataFrame({'gene':['IL12RB1', 'IL12RB2'], 'value': [np.mean(np.log1p(stim_v2['IL12RB1'])), np.mean(np.log1p(stim_v2['IL12RB2']))], 'V':['V2', 'V2']})\n",
    "\n",
    "bardf = pd.concat([v1bar, v2bar])"
   ]
  },
  {
   "cell_type": "code",
   "execution_count": 5,
   "id": "1dc856cc-60fd-44c9-99cc-9de7becbcb02",
   "metadata": {},
   "outputs": [
    {
     "data": {
      "text/plain": [
       "Text(0, 0.5, 'Mean of log2-values')"
      ]
     },
     "execution_count": 5,
     "metadata": {},
     "output_type": "execute_result"
    },
    {
     "data": {
      "image/png": "[encoded data removed]",
      "text/plain": [
       "<Figure size 640x480 with 1 Axes>"
      ]
     },
     "metadata": {},
     "output_type": "display_data"
    }
   ],
   "source": [
    "sns.barplot(y = 'gene', x = 'value', hue = 'V', data = bardf)\n",
    "plt.title('NK - LPS stimulated')\n",
    "plt.ylabel('Mean of log2-values')\n",
    "#plt.savefig('NK_LPS_IL12RB.pdf')"
   ]
  },
  {
   "cell_type": "code",
   "execution_count": 6,
   "id": "6d79c9d2-c591-4ddd-8060-a2170fd5a7fd",
   "metadata": {},
   "outputs": [
    {
     "name": "stdout",
     "output_type": "stream",
     "text": [
      "Ttest_indResult(statistic=-3.3923159278596207, pvalue=0.0006988665623761121)\n",
      "Ttest_indResult(statistic=-9.400133429927449, pvalue=8.34808409334688e-21)\n"
     ]
    }
   ],
   "source": [
    "print(scipy.stats.ttest_ind(np.log1p(stim_v1['IL12RB1']), np.log1p(stim_v2['IL12RB1'])))\n",
    "print(scipy.stats.ttest_ind(np.log1p(stim_v1['IL12RB2']), np.log1p(stim_v2['IL12RB2'])))"
   ]
  },
  {
   "cell_type": "code",
   "execution_count": null,
   "id": "fe89915b-9670-4941-af63-2ba9d3795de2",
   "metadata": {},
   "outputs": [],
   "source": []
  }
 ],
 "metadata": {
  "kernelspec": {
   "display_name": "Python 3 (ipykernel)",
   "language": "python",
   "name": "python3"
  },
  "language_info": {
   "codemirror_mode": {
    "name": "ipython",
    "version": 3
   },
   "file_extension": ".py",
   "mimetype": "text/x-python",
   "name": "python",
   "nbconvert_exporter": "python",
   "pygments_lexer": "ipython3",
   "version": "3.10.6"
  }
 },
 "nbformat": 4,
 "nbformat_minor": 5
}
