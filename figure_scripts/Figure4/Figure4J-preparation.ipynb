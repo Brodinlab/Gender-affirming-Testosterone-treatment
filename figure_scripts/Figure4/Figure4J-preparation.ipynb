{
 "cells": [
  {
   "cell_type": "markdown",
   "id": "ee782181-b0ed-4419-887e-77d8aab4489c",
   "metadata": {
    "tags": []
   },
   "source": [
    "## Script to generate Figure4J in Lakshmikanth, Consiglio et al - Immune system adaptation during Gender affirming Testosterone treatment\n",
    "#### Author Rikard Forlin - rikard.forlin@ki.se"
   ]
  },
  {
   "cell_type": "code",
   "execution_count": 1,
   "id": "3521e587-f28b-40b2-84d3-9f946a06be3b",
   "metadata": {},
   "outputs": [],
   "source": [
    "import anndata as ad\n",
    "import numpy as np\n",
    "import pandas as pd\n",
    "import scanpy as sc\n",
    "import seaborn as sns\n",
    "import matplotlib.pyplot as plt\n",
    "import matplotlib as mpl\n",
    "import re\n",
    "\n",
    "import os\n",
    "import scipy.stats as stats\n",
    "from statsmodels.sandbox.stats.multicomp import multipletests"
   ]
  },
  {
   "cell_type": "code",
   "execution_count": 2,
   "id": "10e42d7f-8ac5-47c2-be2b-792c87219714",
   "metadata": {},
   "outputs": [],
   "source": [
    "import warnings\n",
    "warnings.filterwarnings(\"ignore\")"
   ]
  },
  {
   "cell_type": "markdown",
   "id": "0c4463f6-15a7-46fe-beb8-6d5596df5b38",
   "metadata": {},
   "source": [
    "## Specify adata_paths here"
   ]
  },
  {
   "cell_type": "code",
   "execution_count": 3,
   "id": "6b36ea84-1cad-4973-8cab-f8604551059e",
   "metadata": {},
   "outputs": [],
   "source": [
    "ntc_v1_path = '../../data/anndata_folder_scRNAseq/NTCV1.h5ad'#\n",
    "ntc_v2_path = '../../data/anndata_folder_scRNAseq/NTCV2.h5ad'#"
   ]
  },
  {
   "cell_type": "code",
   "execution_count": 4,
   "id": "b3ed9584-d986-4c82-a42f-d5fe3f7b2fa7",
   "metadata": {},
   "outputs": [],
   "source": [
    "ntc_v1 = sc.read_h5ad(ntc_v1_path)\n",
    "ntc_v2 = sc.read_h5ad(ntc_v2_path)\n"
   ]
  },
  {
   "cell_type": "code",
   "execution_count": 5,
   "id": "1c3de2c2-43e5-4fbe-bbc0-c6592ea90568",
   "metadata": {},
   "outputs": [],
   "source": [
    "ntc_v1.obs['V'] = 'V1'\n",
    "ntc_v2.obs['V'] = 'V2'\n",
    "ntc_v1.var_names_make_unique()\n",
    "ntc_v2.var_names_make_unique()\n",
    "ntc_v1.obs_names_make_unique()\n",
    "ntc_v2.obs_names_make_unique()\n",
    "\n",
    "\n",
    "add = ad.concat([ntc_v1, ntc_v2])\n"
   ]
  },
  {
   "cell_type": "code",
   "execution_count": 6,
   "id": "d3b9b76e-673e-4561-89de-8881fd62b80d",
   "metadata": {},
   "outputs": [],
   "source": [
    "sc.pp.normalize_total(add, target_sum = 10000)#and off to NicheNet we go"
   ]
  },
  {
   "cell_type": "code",
   "execution_count": 7,
   "id": "755a8c3f-222e-44db-8cde-6a022f64de47",
   "metadata": {},
   "outputs": [],
   "source": [
    "add.write('nichenet_adata.h5ad')#insert pathway to store anndata here"
   ]
  },
  {
   "cell_type": "markdown",
   "id": "428dd184-31ec-47d6-81c0-acaa7b5cdd70",
   "metadata": {},
   "source": [
    "\n",
    "## To produce the NicheNet-figure (via R) - run the cell below (it takes a couple of minutes):"
   ]
  },
  {
   "cell_type": "code",
   "execution_count": 10,
   "id": "0d08e922-ba31-4aea-8100-f32e3bb7e514",
   "metadata": {},
   "outputs": [
    {
     "name": "stdout",
     "output_type": "stream",
     "text": [
      "\u001b[?25h── \u001b[1mAttaching packages\u001b[22m ─────────────────────────────────────── tidyverse 1.3.2 ──\n",
      "\u001b[32m✔\u001b[39m \u001b[34mggplot2\u001b[39m 3.4.1     \u001b[32m✔\u001b[39m \u001b[34mpurrr  \u001b[39m 1.0.1\n",
      "\u001b[32m✔\u001b[39m \u001b[34mtibble \u001b[39m 3.1.8     \u001b[32m✔\u001b[39m \u001b[34mdplyr  \u001b[39m 1.1.0\n",
      "\u001b[32m✔\u001b[39m \u001b[34mtidyr  \u001b[39m 1.3.0     \u001b[32m✔\u001b[39m \u001b[34mstringr\u001b[39m 1.5.0\n",
      "\u001b[32m✔\u001b[39m \u001b[34mreadr  \u001b[39m 2.1.4     \u001b[32m✔\u001b[39m \u001b[34mforcats\u001b[39m 1.0.0\n",
      "── \u001b[1mConflicts\u001b[22m ────────────────────────────────────────── tidyverse_conflicts() ──\n",
      "\u001b[31m✖\u001b[39m \u001b[34mdplyr\u001b[39m::\u001b[32mfilter()\u001b[39m masks \u001b[34mstats\u001b[39m::filter()\n",
      "\u001b[31m✖\u001b[39m \u001b[34mdplyr\u001b[39m::\u001b[32mlag()\u001b[39m    masks \u001b[34mstats\u001b[39m::lag()\n",
      "\u001b[?25h\u001b[?25hRegistered S3 method overwritten by 'SeuratDisk':\n",
      "  method            from  \n",
      "  as.sparse.H5Group Seurat\n",
      "\u001b[?25hAttaching SeuratObject\n",
      "\u001b[?25h\n",
      "Attaching package: ‘anndata’\n",
      "\n",
      "The following object is masked from ‘package:readr’:\n",
      "\n",
      "    read_csv\n",
      "\n",
      "\u001b[?25h\u001b[?25h========================================\n",
      "circlize version 0.4.15\n",
      "CRAN page: https://cran.r-project.org/package=circlize\n",
      "Github page: https://github.com/jokergoo/circlize\n",
      "Documentation: https://jokergoo.github.io/circlize_book/book/\n",
      "\n",
      "If you use it in published research, please cite:\n",
      "Gu, Z. circlize implements and enhances circular visualization\n",
      "  in R. Bioinformatics 2014.\n",
      "\n",
      "This message can be suppressed by:\n",
      "  suppressPackageStartupMessages(library(circlize))\n",
      "========================================\n",
      "\n",
      "\u001b[?25h\u001b[?25h\u001b[?25h\u001b[?25h\u001b[?25h\u001b[?25h\u001b[?25h/Users/rikardforlin/opt/miniconda3/envs/minic/lib/python3.10/site-packages/anndata/_core/anndata.py:1828: UserWarning: Observation names are not unique. To make them unique, call `.obs_names_make_unique`.\n",
      "  utils.warn_names_duplicates(\"obs\")\n",
      "\u001b[?25h\u001b[?25h\u001b[?25h\u001b[?25h\u001b[?25h\u001b[?25h\u001b[?25h\u001b[?25h\u001b[?25h\u001b[?25h\u001b[?25h\u001b[?25h [1] Naive CD8T              Naive CD4T              X                      \n",
      " [4] Memory CD4T             Memory CD8T             pDC                    \n",
      " [7] mDC                     NKdim                   Naive B cells          \n",
      "[10] Non-classical monocytes Classical monocytes    \n",
      "14 Levels: Classical monocytes Megakaryocytes Memory CD4T Memory CD8T ... pDC\n",
      "\u001b[?25h\u001b[?25h\u001b[?25h\u001b[?25h\u001b[?25h\u001b[?25h\u001b[?25h\u001b[?25h\u001b[?25h\u001b[?25h\u001b[?25h\u001b[?25h\u001b[?25h\u001b[?25h\u001b[?25h\u001b[?25h\u001b[?25h\u001b[?25h\u001b[?25h\u001b[?25h\u001b[?25h\u001b[?25h\u001b[?25h\u001b[?25h\u001b[?25h\u001b[?25h\u001b[?25h\u001b[?25h\u001b[?25h\u001b[?25h\u001b[?25h\u001b[?25h\u001b[?25h\u001b[?25h\u001b[?25h\u001b[?25h\u001b[?25h\u001b[?25h\u001b[?25h\u001b[?25h\u001b[?25h\u001b[?25h\u001b[?25h\u001b[?25h\u001b[?25h\u001b[38;5;246m# A tibble: 100 × 3\u001b[39m\n",
      "   ligand target  weight\n",
      "   \u001b[3m\u001b[38;5;246m<chr>\u001b[39m\u001b[23m  \u001b[3m\u001b[38;5;246m<chr>\u001b[39m\u001b[23m    \u001b[3m\u001b[38;5;246m<dbl>\u001b[39m\u001b[23m\n",
      "\u001b[38;5;250m 1\u001b[39m HMGB1  TLR2   0.006\u001b[4m9\u001b[24m\u001b[4m3\u001b[24m\n",
      "\u001b[38;5;250m 2\u001b[39m IL23A  CCL2   0.006\u001b[4m1\u001b[24m\u001b[4m3\u001b[24m\n",
      "\u001b[38;5;250m 3\u001b[39m HMGB1  CCL2   0.005\u001b[4m5\u001b[24m\u001b[4m4\u001b[24m\n",
      "\u001b[38;5;250m 4\u001b[39m IL23A  IL1B   0.005\u001b[4m3\u001b[24m\u001b[4m3\u001b[24m\n",
      "\u001b[38;5;250m 5\u001b[39m IL23A  IRF1   0.005\u001b[4m0\u001b[24m\u001b[4m4\u001b[24m\n",
      "\u001b[38;5;250m 6\u001b[39m HMGB1  IL1B   0.004\u001b[4m9\u001b[24m\u001b[4m1\u001b[24m\n",
      "\u001b[38;5;250m 7\u001b[39m ADAM17 IL1B   0.004\u001b[4m6\u001b[24m\u001b[4m4\u001b[24m\n",
      "\u001b[38;5;250m 8\u001b[39m CALM1  ITCH   0.004\u001b[4m4\u001b[24m\u001b[4m1\u001b[24m\n",
      "\u001b[38;5;250m 9\u001b[39m CALM1  CBLB   0.004\u001b[4m2\u001b[24m\u001b[4m8\u001b[24m\n",
      "\u001b[38;5;250m10\u001b[39m HMGB1  CXCL8  0.004\u001b[4m1\u001b[24m\u001b[4m7\u001b[24m\n",
      "\u001b[38;5;246m# … with 90 more rows\u001b[39m\n",
      "\u001b[?25h\u001b[?25h\u001b[?25h\u001b[?25h\u001b[?25h\u001b[?25h\u001b[?25h\u001b[?25h\u001b[?25h\u001b[?25h\u001b[1m\u001b[22mJoining with `by = join_by(ligand_type)`\n",
      "\u001b[1m\u001b[22mJoining with `by = join_by(target_type)`\n",
      "\u001b[?25h\u001b[?25h\u001b[?25h\u001b[?25h\u001b[?25h\u001b[?25h\u001b[?25h\u001b[?25h\u001b[?25h\u001b[?25h\u001b[?25h\u001b[?25h\u001b[?25h\u001b[?25h\u001b[?25h\u001b[?25h\u001b[?25h\u001b[?25h\u001b[?25h [1] \"TLR2\"      \"CCL2\"      \"IL1B\"      \"IRF1\"      \"ITCH\"      \"CBLB\"     \n",
      " [7] \"CXCL8\"     \"SOCS3\"     \"CEBPB\"     \"CXCL2\"     \"TNFAIP3\"   \"STAT3\"    \n",
      "[13] \"STAT1\"     \"SOCS1\"     \"PDE4D\"     \"BIRC3\"     \"NFKB1\"     \"LINC00861\"\n",
      "[19] \"IKZF3\"     \"MCL1\"      \"AHNAK\"     \"OLR1\"      \"ETS1\"      \"CASP8\"    \n",
      "[25] \"KLF6\"      \"HSP90AB1\"  \"CHD2\"      \"TNIP1\"    \n",
      "\u001b[?25h\u001b[?25h\u001b[?25h\u001b[?25h\u001b[?25h\u001b[?25h"
     ]
    }
   ],
   "source": [
    "!Rscript Figure4J.R"
   ]
  },
  {
   "cell_type": "code",
   "execution_count": null,
   "id": "d6a1a44e-536a-4bac-9515-74a529dd64d7",
   "metadata": {},
   "outputs": [],
   "source": []
  },
  {
   "cell_type": "code",
   "execution_count": null,
   "id": "5eb58542-97e1-452d-a0b8-00d224d96e8b",
   "metadata": {},
   "outputs": [],
   "source": []
  },
  {
   "cell_type": "code",
   "execution_count": 14,
   "id": "88dc9f87-938d-44ca-a140-f8c873cff8b7",
   "metadata": {},
   "outputs": [
    {
     "name": "stdout",
     "output_type": "stream",
     "text": [
      "GENE IS TLR2\n",
      "Monocyte  3.8650665\n",
      "-------------------\n",
      "GENE IS CCL2\n",
      "Monocyte  21.367334\n",
      "-------------------\n",
      "GENE IS IL1B\n",
      "Monocyte  40.228977\n",
      "-------------------\n",
      "GENE IS IRF1\n",
      "NK  4.3585324\n",
      "-------------------\n",
      "GENE IS ITCH\n",
      "pDC  1.3725774\n",
      "-------------------\n",
      "GENE IS CBLB\n",
      "NK  2.111871\n",
      "-------------------\n",
      "GENE IS CXCL8\n",
      "Monocyte  60.74309\n",
      "-------------------\n",
      "GENE IS SOCS3\n",
      "CD4T  1.5878404\n",
      "-------------------\n",
      "GENE IS CEBPB\n",
      "Monocyte  3.3607726\n",
      "-------------------\n",
      "GENE IS CXCL2\n",
      "Monocyte  5.9679894\n",
      "-------------------\n",
      "GENE IS TNFAIP3\n",
      "NK  5.7539344\n",
      "-------------------\n",
      "GENE IS STAT3\n",
      "CD4T  2.1095355\n",
      "-------------------\n",
      "GENE IS STAT1\n",
      "pDC  1.8485456\n",
      "-------------------\n",
      "GENE IS SOCS1\n",
      "CD4T  0.73865664\n",
      "-------------------\n",
      "GENE IS PDE4D\n",
      "NK  1.6188991\n",
      "-------------------\n",
      "GENE IS BIRC3\n",
      "DC  9.057867\n",
      "-------------------\n",
      "GENE IS NFKB1\n",
      "DC  4.854057\n",
      "-------------------\n",
      "GENE IS LINC00861\n",
      "CD4T  2.4714334\n",
      "-------------------\n",
      "GENE IS IKZF3\n",
      "CD8T  2.3190408\n",
      "-------------------\n",
      "GENE IS MCL1\n",
      "Monocyte  3.1876245\n",
      "-------------------\n",
      "GENE IS AHNAK\n",
      "DC  8.400069\n",
      "-------------------\n",
      "GENE IS OLR1\n",
      "Monocyte  6.347495\n",
      "-------------------\n",
      "GENE IS ETS1\n",
      "CD4T  5.1094246\n",
      "-------------------\n",
      "GENE IS CASP8\n",
      "CD4T  1.3304838\n",
      "-------------------\n",
      "GENE IS KLF6\n",
      "Monocyte  5.241127\n",
      "-------------------\n",
      "GENE IS HSP90AB1\n",
      "B  15.500973\n",
      "-------------------\n",
      "GENE IS CHD2\n",
      "NK  2.001089\n",
      "-------------------\n",
      "GENE IS TNIP1\n",
      "Monocyte  3.4290118\n",
      "-------------------\n"
     ]
    }
   ],
   "source": [
    "genes_ntc = [\"TLR2\"   ,  \"CCL2\"   ,  \"IL1B\" , \"IRF1\",  \"ITCH\"   ,  \"CBLB\",     \"CXCL8\"   , \"SOCS3\", \"CEBPB\"  ,  \"CXCL2\"  , \"TNFAIP3\",  \"STAT3\", \"STAT1\", \"SOCS1\", \"PDE4D\", \"BIRC3\", \"NFKB1\", \"LINC00861\", \"IKZF3\", \"MCL1\", \"AHNAK\", \"OLR1\", \"ETS1\", \"CASP8\", \"KLF6\", \"HSP90AB1\", \"CHD2\", \"TNIP1\"]\n",
    "# Mean calculation for coloring of the NicheNet CircosPlot - add (the annotated dataframe) should be normalized as above\n",
    "for gene in genes_ntc:\n",
    "    print(\"GENE IS \" + str(gene))\n",
    "    maxx = 0\n",
    "    ct_maxx = 'B'\n",
    "    for ct in ['B', 'Monocyte', 'pDC', 'DC', 'CD8T', 'CD4T', 'NK']:\n",
    "        adddf = add[add.obs.celltype == ct].to_df()\n",
    "        if np.mean(adddf[gene]) > maxx:\n",
    "            maxx = np.mean(adddf[gene])\n",
    "            ct_maxx = ct\n",
    "    print(ct_maxx + '  ' + str(maxx))\n",
    "#        print('Difference for ' + str(ct) +': ' + str(np.mean(adddf[gene])))\n",
    "    print(\"-------------------\")"
   ]
  },
  {
   "cell_type": "code",
   "execution_count": null,
   "id": "88f0a542-529c-44b1-980e-c2b6199a068c",
   "metadata": {},
   "outputs": [],
   "source": []
  }
 ],
 "metadata": {
  "kernelspec": {
   "display_name": "Python 3 (ipykernel)",
   "language": "python",
   "name": "python3"
  },
  "language_info": {
   "codemirror_mode": {
    "name": "ipython",
    "version": 3
   },
   "file_extension": ".py",
   "mimetype": "text/x-python",
   "name": "python",
   "nbconvert_exporter": "python",
   "pygments_lexer": "ipython3",
   "version": "3.10.6"
  }
 },
 "nbformat": 4,
 "nbformat_minor": 5
}
