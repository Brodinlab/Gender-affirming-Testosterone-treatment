{
 "cells": [
  {
   "cell_type": "markdown",
   "id": "39f73141-be23-45e4-8c55-d34d73353872",
   "metadata": {
    "tags": []
   },
   "source": [
    "## Script to generate Figure4JK and 4L in Lakshmikanth, Consiglio et al - Immune system adaptation during Gender affirming Testosterone treatment\n",
    "#### Author Rikard Forlin - rikard.forlin@ki.se"
   ]
  },
  {
   "cell_type": "code",
   "execution_count": 1,
   "id": "0231dd9b-b247-4a8f-8f24-4049049c68b5",
   "metadata": {},
   "outputs": [],
   "source": [
    "import anndata as ad\n",
    "import numpy as np\n",
    "import pandas as pd\n",
    "import scanpy as sc\n",
    "import seaborn as sns\n",
    "import matplotlib.pyplot as plt\n",
    "import matplotlib as mpl\n",
    "import re\n",
    "\n",
    "import os\n",
    "import scipy.stats as stats\n",
    "from statsmodels.sandbox.stats.multicomp import multipletests"
   ]
  },
  {
   "cell_type": "code",
   "execution_count": 2,
   "id": "e7e917d5-69f8-4004-bae4-5bc6dced1887",
   "metadata": {},
   "outputs": [],
   "source": [
    "import warnings\n",
    "warnings.filterwarnings(\"ignore\")"
   ]
  },
  {
   "cell_type": "markdown",
   "id": "3708ce09-e0c7-43de-a4e6-94dfe348a049",
   "metadata": {},
   "source": [
    "## Specify adata_paths here"
   ]
  },
  {
   "cell_type": "code",
   "execution_count": 3,
   "id": "92419153-c04b-434b-a5d3-572cdf6525c1",
   "metadata": {},
   "outputs": [],
   "source": [
    "ntc_v1_path = '../../data/anndata_folder_scRNAseq/NTCV1.h5ad'#\n",
    "ntc_v2_path = '../../data/anndata_folder_scRNAseq/NTCV2.h5ad'#"
   ]
  },
  {
   "cell_type": "code",
   "execution_count": 4,
   "id": "211fd515-5f9d-4845-8754-63aec46d6c98",
   "metadata": {},
   "outputs": [],
   "source": [
    "ntc_v1 = sc.read_h5ad(ntc_v1_path)\n",
    "ntc_v2 = sc.read_h5ad(ntc_v2_path)\n"
   ]
  },
  {
   "cell_type": "code",
   "execution_count": 5,
   "id": "98084767-0669-4f18-bddd-caa884fe704d",
   "metadata": {},
   "outputs": [],
   "source": [
    "ntc_cd4t_v1 = ntc_v1[(ntc_v1.obs.celltype == 'CD4T') & (ntc_v1.obs.celltype_sub != 'Treg')].to_df()\n",
    "ntc_cd4t_v2 = ntc_v2[(ntc_v2.obs.celltype == 'CD4T') & (ntc_v2.obs.celltype_sub != 'Treg')].to_df()\n"
   ]
  },
  {
   "cell_type": "code",
   "execution_count": 6,
   "id": "47fb797e-a7ee-4025-8d69-6b5318647bac",
   "metadata": {},
   "outputs": [],
   "source": [
    "ebi3_il12_v1 = ntc_cd4t_v1[['EBI3', 'IL12B']]\n",
    "ebi3_il12_v2 = ntc_cd4t_v2['EBI3']\n",
    "ebi3_il12_v2['IL12B'] = 0 #IL12B not found - set to 0\n",
    "\n",
    "il23a_stat3_v1 = ntc_cd4t_v1[['IL23A', 'STAT3']]\n",
    "il23a_stat3_v2 = ntc_cd4t_v2[['IL23A', 'STAT3']]\n"
   ]
  },
  {
   "cell_type": "code",
   "execution_count": 7,
   "id": "7fc44775-91e9-49b1-99c3-b9a44dea4482",
   "metadata": {},
   "outputs": [],
   "source": [
    "ebi3_il12_v1.to_csv('CD4T_NTCv1_EBI3_IL12B.csv')\n",
    "ebi3_il12_v2.to_csv('CD4T_NTCv2_EBI3_IL12B.csv')\n",
    "\n",
    "il23a_stat3_v1.to_csv('CD4T_NTCv1_IL23A_STAT3.csv')\n",
    "il23a_stat3_v2.to_csv('CD4T_NTCv2_IL23A_STAT3.csv')"
   ]
  },
  {
   "cell_type": "code",
   "execution_count": 10,
   "id": "c44009b5-9953-46a6-aa4f-431609197614",
   "metadata": {},
   "outputs": [
    {
     "name": "stdout",
     "output_type": "stream",
     "text": [
      "── \u001b[1mAttaching packages\u001b[22m ─────────────────────────────────────── tidyverse 1.3.2 ──\n",
      "\u001b[32m✔\u001b[39m \u001b[34mggplot2\u001b[39m 3.4.1     \u001b[32m✔\u001b[39m \u001b[34mpurrr  \u001b[39m 1.0.1\n",
      "\u001b[32m✔\u001b[39m \u001b[34mtibble \u001b[39m 3.1.8     \u001b[32m✔\u001b[39m \u001b[34mdplyr  \u001b[39m 1.1.0\n",
      "\u001b[32m✔\u001b[39m \u001b[34mtidyr  \u001b[39m 1.3.0     \u001b[32m✔\u001b[39m \u001b[34mstringr\u001b[39m 1.5.0\n",
      "\u001b[32m✔\u001b[39m \u001b[34mreadr  \u001b[39m 2.1.4     \u001b[32m✔\u001b[39m \u001b[34mforcats\u001b[39m 1.0.0\n",
      "── \u001b[1mConflicts\u001b[22m ────────────────────────────────────────── tidyverse_conflicts() ──\n",
      "\u001b[31m✖\u001b[39m \u001b[34mdplyr\u001b[39m::\u001b[32mfilter()\u001b[39m masks \u001b[34mstats\u001b[39m::filter()\n",
      "\u001b[31m✖\u001b[39m \u001b[34mdplyr\u001b[39m::\u001b[32mlag()\u001b[39m    masks \u001b[34mstats\u001b[39m::lag()\n",
      "\u001b[?25h\u001b[?25h\u001b[?25h\u001b[?25h\u001b[?25h\u001b[?25h\u001b[?25h\u001b[?25h\u001b[?25h\u001b[?25h\u001b[?25h\u001b[?25h\u001b[1m\u001b[22mJoining with `by = join_by(name, var, value)`\n",
      "\u001b[?25h\u001b[?25h\u001b[?25h\u001b[?25h\u001b[?25h"
     ]
    }
   ],
   "source": [
    "!Rscript Fig4k_IL12B_EBI3.R"
   ]
  },
  {
   "cell_type": "code",
   "execution_count": null,
   "id": "b3a27bca-b79e-48f7-ae36-03774a9cb469",
   "metadata": {},
   "outputs": [],
   "source": []
  },
  {
   "cell_type": "code",
   "execution_count": null,
   "id": "73b26310-38b3-41f9-94aa-86a4eb1f06cb",
   "metadata": {},
   "outputs": [],
   "source": []
  },
  {
   "cell_type": "code",
   "execution_count": 9,
   "id": "3a383339-824f-4f88-9e4c-2fc560bb297e",
   "metadata": {},
   "outputs": [
    {
     "name": "stdout",
     "output_type": "stream",
     "text": [
      "── \u001b[1mAttaching packages\u001b[22m ─────────────────────────────────────── tidyverse 1.3.2 ──\n",
      "\u001b[32m✔\u001b[39m \u001b[34mggplot2\u001b[39m 3.4.1     \u001b[32m✔\u001b[39m \u001b[34mpurrr  \u001b[39m 1.0.1\n",
      "\u001b[32m✔\u001b[39m \u001b[34mtibble \u001b[39m 3.1.8     \u001b[32m✔\u001b[39m \u001b[34mdplyr  \u001b[39m 1.1.0\n",
      "\u001b[32m✔\u001b[39m \u001b[34mtidyr  \u001b[39m 1.3.0     \u001b[32m✔\u001b[39m \u001b[34mstringr\u001b[39m 1.5.0\n",
      "\u001b[32m✔\u001b[39m \u001b[34mreadr  \u001b[39m 2.1.4     \u001b[32m✔\u001b[39m \u001b[34mforcats\u001b[39m 1.0.0\n",
      "── \u001b[1mConflicts\u001b[22m ────────────────────────────────────────── tidyverse_conflicts() ──\n",
      "\u001b[31m✖\u001b[39m \u001b[34mdplyr\u001b[39m::\u001b[32mfilter()\u001b[39m masks \u001b[34mstats\u001b[39m::filter()\n",
      "\u001b[31m✖\u001b[39m \u001b[34mdplyr\u001b[39m::\u001b[32mlag()\u001b[39m    masks \u001b[34mstats\u001b[39m::lag()\n",
      "\u001b[?25h\u001b[?25h\u001b[?25h\u001b[?25h\u001b[?25h\u001b[?25h\u001b[?25hWarning message:\n",
      "\u001b[1m\u001b[22mRemoved 3 rows containing missing values (`geom_point()`). \n",
      "\u001b[?25h\u001b[?25h"
     ]
    }
   ],
   "source": [
    "!Rscript Fig4L_IL23.R"
   ]
  },
  {
   "cell_type": "code",
   "execution_count": null,
   "id": "0a8f9696-f356-4155-9ea7-bd8c41229073",
   "metadata": {},
   "outputs": [],
   "source": []
  },
  {
   "cell_type": "code",
   "execution_count": null,
   "id": "e8e95783-884b-41f7-a3a1-51e72edb89ad",
   "metadata": {},
   "outputs": [],
   "source": []
  }
 ],
 "metadata": {
  "kernelspec": {
   "display_name": "Python 3 (ipykernel)",
   "language": "python",
   "name": "python3"
  },
  "language_info": {
   "codemirror_mode": {
    "name": "ipython",
    "version": 3
   },
   "file_extension": ".py",
   "mimetype": "text/x-python",
   "name": "python",
   "nbconvert_exporter": "python",
   "pygments_lexer": "ipython3",
   "version": "3.10.6"
  }
 },
 "nbformat": 4,
 "nbformat_minor": 5
}
