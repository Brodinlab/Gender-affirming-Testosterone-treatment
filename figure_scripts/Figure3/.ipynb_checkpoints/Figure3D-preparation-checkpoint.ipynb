{
 "cells": [
  {
   "cell_type": "markdown",
   "id": "7214a954-92c5-4ebb-ba0d-6f86c940ad52",
   "metadata": {
    "tags": []
   },
   "source": [
    "## Script to generate Figure3D in Lakshmikanth, Consiglio et al - Immune system adaptation during Gender affirming Testosterone treatment\n",
    "#### Author Rikard Forlin - rikard.forlin@ki.se"
   ]
  },
  {
   "cell_type": "code",
   "execution_count": 1,
   "id": "5c66a7de-4710-48ee-9efa-89f715d0c46c",
   "metadata": {},
   "outputs": [],
   "source": [
    "import anndata as ad\n",
    "import numpy as np\n",
    "import pandas as pd\n",
    "import scanpy as sc"
   ]
  },
  {
   "cell_type": "code",
   "execution_count": 2,
   "id": "7401c2b1-6efc-40f0-92ef-c50fde9ec36c",
   "metadata": {},
   "outputs": [],
   "source": [
    "import warnings\n",
    "warnings.filterwarnings(\"ignore\")"
   ]
  },
  {
   "cell_type": "markdown",
   "id": "ecde3683-fcd8-4459-bcb0-4feaf5007ae0",
   "metadata": {},
   "source": [
    "## Specify adata_paths here"
   ]
  },
  {
   "cell_type": "code",
   "execution_count": 3,
   "id": "47aad3d5-0a1e-473a-a297-d2cdfa4df114",
   "metadata": {},
   "outputs": [],
   "source": [
    "lps_v1_path = '../../data/anndata_folder_scRNAseq/LPSV1.h5ad'#\n",
    "lps_v2_path = '../../data/anndata_folder_scRNAseq/LPSV2.h5ad'#"
   ]
  },
  {
   "cell_type": "code",
   "execution_count": 4,
   "id": "0bcc0804-b35b-4987-934b-54e56c57db5e",
   "metadata": {},
   "outputs": [],
   "source": [
    "lps_v1 = sc.read_h5ad(lps_v1_path)\n",
    "lps_v2 = sc.read_h5ad(lps_v2_path)\n"
   ]
  },
  {
   "cell_type": "code",
   "execution_count": 5,
   "id": "c96c845a-d512-478d-81a5-75621ad8a952",
   "metadata": {},
   "outputs": [],
   "source": [
    "lps_v1.obs['V'] = 'V1'\n",
    "lps_v2.obs['V'] = 'V2'\n",
    "lps_v1.var_names_make_unique()\n",
    "lps_v2.var_names_make_unique()\n",
    "lps_v1.obs_names_make_unique()\n",
    "lps_v2.obs_names_make_unique()\n",
    "\n",
    "\n",
    "add = ad.concat([lps_v1, lps_v2])\n"
   ]
  },
  {
   "cell_type": "code",
   "execution_count": 6,
   "id": "46771284-1c20-490c-9df3-e10ad672d075",
   "metadata": {},
   "outputs": [],
   "source": [
    "sc.pp.normalize_total(add, target_sum = 10000)#and off to NicheNet we go"
   ]
  },
  {
   "cell_type": "code",
   "execution_count": 7,
   "id": "239bb130-8a79-46a1-8b59-994d0cccd737",
   "metadata": {},
   "outputs": [],
   "source": [
    "add.write('nichenet_adata.h5ad')#insert pathway to store anndata here"
   ]
  },
  {
   "cell_type": "markdown",
   "id": "d79c0268-676a-4cae-ab15-22b73d013ae5",
   "metadata": {},
   "source": [
    "\n",
    "## To produce the NicheNet-figure (via R) - run the cell below (it takes a couple of minutes):"
   ]
  },
  {
   "cell_type": "code",
   "execution_count": 8,
   "id": "4496dd83-94ba-4c60-ade8-8b4253c7a947",
   "metadata": {},
   "outputs": [
    {
     "name": "stdout",
     "output_type": "stream",
     "text": [
      "\u001b[?25h── \u001b[1mAttaching packages\u001b[22m ─────────────────────────────────────── tidyverse 1.3.2 ──\n",
      "\u001b[32m✔\u001b[39m \u001b[34mggplot2\u001b[39m 3.4.1     \u001b[32m✔\u001b[39m \u001b[34mpurrr  \u001b[39m 1.0.1\n",
      "\u001b[32m✔\u001b[39m \u001b[34mtibble \u001b[39m 3.1.8     \u001b[32m✔\u001b[39m \u001b[34mdplyr  \u001b[39m 1.1.0\n",
      "\u001b[32m✔\u001b[39m \u001b[34mtidyr  \u001b[39m 1.3.0     \u001b[32m✔\u001b[39m \u001b[34mstringr\u001b[39m 1.5.0\n",
      "\u001b[32m✔\u001b[39m \u001b[34mreadr  \u001b[39m 2.1.4     \u001b[32m✔\u001b[39m \u001b[34mforcats\u001b[39m 1.0.0\n",
      "── \u001b[1mConflicts\u001b[22m ────────────────────────────────────────── tidyverse_conflicts() ──\n",
      "\u001b[31m✖\u001b[39m \u001b[34mdplyr\u001b[39m::\u001b[32mfilter()\u001b[39m masks \u001b[34mstats\u001b[39m::filter()\n",
      "\u001b[31m✖\u001b[39m \u001b[34mdplyr\u001b[39m::\u001b[32mlag()\u001b[39m    masks \u001b[34mstats\u001b[39m::lag()\n",
      "\u001b[?25h\u001b[?25hRegistered S3 method overwritten by 'SeuratDisk':\n",
      "  method            from  \n",
      "  as.sparse.H5Group Seurat\n",
      "\u001b[?25hAttaching SeuratObject\n",
      "\u001b[?25h\n",
      "Attaching package: ‘anndata’\n",
      "\n",
      "The following object is masked from ‘package:readr’:\n",
      "\n",
      "    read_csv\n",
      "\n",
      "\u001b[?25h\u001b[?25h========================================\n",
      "circlize version 0.4.15\n",
      "CRAN page: https://cran.r-project.org/package=circlize\n",
      "Github page: https://github.com/jokergoo/circlize\n",
      "Documentation: https://jokergoo.github.io/circlize_book/book/\n",
      "\n",
      "If you use it in published research, please cite:\n",
      "Gu, Z. circlize implements and enhances circular visualization\n",
      "  in R. Bioinformatics 2014.\n",
      "\n",
      "This message can be suppressed by:\n",
      "  suppressPackageStartupMessages(library(circlize))\n",
      "========================================\n",
      "\n",
      "\u001b[?25h\u001b[?25h\u001b[?25h\u001b[?25h\u001b[?25h\u001b[?25h\u001b[?25h/Users/rikardforlin/opt/miniconda3/envs/minic/lib/python3.10/site-packages/anndata/_core/anndata.py:1828: UserWarning: Observation names are not unique. To make them unique, call `.obs_names_make_unique`.\n",
      "  utils.warn_names_duplicates(\"obs\")\n",
      "\u001b[?25h\u001b[?25h\u001b[?25h\u001b[?25h\u001b[?25h\u001b[?25h\u001b[?25h\u001b[?25h\u001b[?25h\u001b[?25h\u001b[?25h\u001b[?25h\u001b[?25h\u001b[?25h\u001b[?25h\u001b[?25h\u001b[?25h\u001b[?25h\u001b[?25h\u001b[?25h\u001b[?25h\u001b[?25h\u001b[?25h\u001b[?25h\u001b[?25h\u001b[?25h\u001b[?25h\u001b[?25h\u001b[?25h\u001b[?25h\u001b[?25h\u001b[?25h\u001b[?25h\u001b[?25h\u001b[?25h\u001b[?25h\u001b[?25h\u001b[?25h\u001b[?25h\u001b[?25h\u001b[?25h\u001b[?25h\u001b[?25h\u001b[?25h\u001b[?25h\u001b[?25h\u001b[?25h\u001b[?25h\u001b[?25h\u001b[?25h\u001b[?25h\u001b[?25h\u001b[?25h\u001b[?25h\u001b[?25h\u001b[?25h\u001b[?25h\u001b[?25h\u001b[?25h\u001b[?25h\u001b[?25h\u001b[1m\u001b[22mJoining with `by = join_by(ligand_type)`\n",
      "\u001b[1m\u001b[22mJoining with `by = join_by(target_type)`\n",
      "\u001b[?25h\u001b[?25h\u001b[?25h\u001b[?25h\u001b[?25h\u001b[?25h\u001b[?25h\u001b[?25h\u001b[?25h\u001b[?25h\u001b[?25h\u001b[?25h\u001b[?25h\u001b[?25h\u001b[?25h\u001b[?25h\u001b[?25h\u001b[?25h\u001b[?25h\u001b[?25h\u001b[?25h\u001b[?25h\u001b[?25h\u001b[?25h"
     ]
    }
   ],
   "source": [
    "!Rscript Figure3D.R"
   ]
  },
  {
   "cell_type": "code",
   "execution_count": null,
   "id": "5a82efe9-2570-4546-ae40-57d0607c0e64",
   "metadata": {},
   "outputs": [],
   "source": []
  },
  {
   "cell_type": "markdown",
   "id": "e48c27ef-eb42-4d03-9b25-9c8fc0d474c5",
   "metadata": {},
   "source": [
    "## Inferring \"target genes\" in NicheNet-plot - calculate the mean expression of each gene in each cell type"
   ]
  },
  {
   "cell_type": "code",
   "execution_count": 10,
   "id": "e1f01bda-eeba-483f-b290-9f6cfb8f33f8",
   "metadata": {},
   "outputs": [
    {
     "name": "stdout",
     "output_type": "stream",
     "text": [
      "GENE IS GZMB\n",
      "pDC  81.53531\n",
      "-------------------\n",
      "GENE IS IFNG\n",
      "NK  14.928644\n",
      "-------------------\n",
      "GENE IS CCL3\n",
      "Monocyte  497.9377\n",
      "-------------------\n",
      "GENE IS CCL20\n",
      "Monocyte  43.013214\n",
      "-------------------\n",
      "GENE IS CCL2\n",
      "Monocyte  122.05428\n",
      "-------------------\n",
      "GENE IS SERPINB2\n",
      "Monocyte  95.36134\n",
      "-------------------\n",
      "GENE IS IL1A\n",
      "Monocyte  46.262726\n",
      "-------------------\n",
      "GENE IS IL1RN\n",
      "Monocyte  25.309465\n",
      "-------------------\n",
      "GENE IS TGFBR2\n",
      "CD8T  1.8737556\n",
      "-------------------\n",
      "GENE IS CCL4\n",
      "Monocyte  606.5961\n",
      "-------------------\n",
      "GENE IS NFKBIZ\n",
      "Monocyte  5.4383698\n",
      "-------------------\n",
      "GENE IS AHR\n",
      "DC  1.6452309\n",
      "-------------------\n",
      "GENE IS PTGER4\n",
      "NK  3.3221629\n",
      "-------------------\n",
      "GENE IS TNF\n",
      "Monocyte  32.04075\n",
      "-------------------\n",
      "GENE IS TRADD\n",
      "pDC  0.76562387\n",
      "-------------------\n",
      "GENE IS SOCS3\n",
      "Monocyte  6.415865\n",
      "-------------------\n",
      "GENE IS SOCS1\n",
      "pDC  2.7325432\n",
      "-------------------\n",
      "GENE IS TIMP1\n",
      "DC  31.318573\n",
      "-------------------\n",
      "GENE IS PLAUR\n",
      "Monocyte  15.478391\n",
      "-------------------\n",
      "GENE IS TNFAIP3\n",
      "Monocyte  17.349962\n",
      "-------------------\n",
      "GENE IS FTH1\n",
      "Monocyte  309.22293\n",
      "-------------------\n",
      "GENE IS CXCL2\n",
      "Monocyte  50.314075\n",
      "-------------------\n",
      "GENE IS IER3\n",
      "Monocyte  48.154045\n",
      "-------------------\n",
      "GENE IS MCL1\n",
      "NK  4.2620335\n",
      "-------------------\n",
      "GENE IS NFKBIA\n",
      "Monocyte  43.857674\n",
      "-------------------\n"
     ]
    }
   ],
   "source": [
    "genes_lps = [\"GZMB\",     \"IFNG\" ,    \"CCL3\"  ,   \"CCL20\",    \"CCL2\" ,    \"SERPINB2\", \"IL1A\"  ,   \"IL1RN\" ,   \"TGFBR2\"  , \"CCL4\"   ,  \"NFKBIZ\"  , \"AHR\"     , \"PTGER4\"  , \"TNF\"   ,   \"TRADD\"  ,  \"SOCS3\"   , \"SOCS1\"   , \"TIMP1\"   , \"PLAUR\",    \"TNFAIP3\" , \"FTH1\"   ,  \"CXCL2\"  ,  \"IER3\"   ,  \"MCL1\" , \"NFKBIA\"]\n",
    "# Mean calculation for coloring of the NicheNet CircosPlot - add (the annotated dataframe) should be normalized as above\n",
    "for gene in genes_lps:\n",
    "    print(\"GENE IS \" + str(gene))\n",
    "    maxx = 0\n",
    "    ct_maxx = 'B'\n",
    "    for ct in ['B', 'Monocyte', 'pDC', 'DC', 'CD8T', 'CD4T', 'NK']:\n",
    "        adddf = add[add.obs.celltype == ct].to_df()\n",
    "        if np.mean(adddf[gene]) > maxx:\n",
    "            maxx = np.mean(adddf[gene])\n",
    "            ct_maxx = ct\n",
    "    print(ct_maxx + '  ' + str(maxx))\n",
    "#        print('Difference for ' + str(ct) +': ' + str(np.mean(adddf[gene])))\n",
    "    print(\"-------------------\")"
   ]
  },
  {
   "cell_type": "code",
   "execution_count": null,
   "id": "07cdd939-1c24-413c-9b42-3d5577d08894",
   "metadata": {},
   "outputs": [],
   "source": []
  }
 ],
 "metadata": {
  "kernelspec": {
   "display_name": "Python 3 (ipykernel)",
   "language": "python",
   "name": "python3"
  },
  "language_info": {
   "codemirror_mode": {
    "name": "ipython",
    "version": 3
   },
   "file_extension": ".py",
   "mimetype": "text/x-python",
   "name": "python",
   "nbconvert_exporter": "python",
   "pygments_lexer": "ipython3",
   "version": "3.10.6"
  }
 },
 "nbformat": 4,
 "nbformat_minor": 5
}
