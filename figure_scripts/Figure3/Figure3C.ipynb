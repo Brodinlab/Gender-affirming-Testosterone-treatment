{
 "cells": [
  {
   "cell_type": "markdown",
   "id": "015688b8-e93c-4fe3-a2ba-16fbb3231538",
   "metadata": {},
   "source": [
    "## Script to generate Figure3C in Lakshmikanth, Consiglio et al - Immune system adaptation during Gender affirming Testosterone treatment\n",
    "#### Author Rikard Forlin - rikard.forlin@ki.se"
   ]
  },
  {
   "cell_type": "markdown",
   "id": "d53e8359-0bd8-4504-be34-8a57e0ee90ae",
   "metadata": {
    "tags": []
   },
   "source": [
    "# Figure 3c - Monocytes - Barplots"
   ]
  },
  {
   "cell_type": "code",
   "execution_count": 1,
   "id": "e528fca8-30bd-411e-b818-86f338b6b8fa",
   "metadata": {},
   "outputs": [],
   "source": [
    "import anndata as ad\n",
    "import numpy as np\n",
    "import pandas as pd\n",
    "import scanpy as sc\n",
    "import seaborn as sns\n",
    "import matplotlib.pyplot as plt\n",
    "import matplotlib as mpl\n",
    "import re\n",
    "import scipy\n",
    "from scipy import sparse\n",
    "import os\n",
    "import scipy.stats as stats\n",
    "from statsmodels.sandbox.stats.multicomp import multipletests\n",
    "from adjustText import adjust_text"
   ]
  },
  {
   "cell_type": "code",
   "execution_count": 2,
   "id": "59e84909-d595-408d-be15-08b4c26502a3",
   "metadata": {},
   "outputs": [],
   "source": [
    "import warnings\n",
    "warnings.filterwarnings(\"ignore\")"
   ]
  },
  {
   "cell_type": "markdown",
   "id": "7a2653d9-f24c-4d06-9427-65fcfdd3f530",
   "metadata": {},
   "source": [
    "## Specify adata_paths here"
   ]
  },
  {
   "cell_type": "code",
   "execution_count": 3,
   "id": "02fcf484-d573-4071-b048-32ae0444005f",
   "metadata": {},
   "outputs": [],
   "source": [
    "r848_v1_path = '../../data/anndata_folder_scRNAseq/R848V1.h5ad' #\n",
    "r848_v2_path = '../../data/anndata_folder_scRNAseq/R848V2.h5ad'#\n",
    "\n",
    "ntc_v1_path = '../../data/anndata_folder_scRNAseq/NTCV1.h5ad'#\n",
    "ntc_v2_path = '../../data/anndata_folder_scRNAseq/NTCV2.h5ad'#\n",
    "\n",
    "lps_v1_path = '../../data/anndata_folder_scRNAseq/LPSV1.h5ad'#\n",
    "lps_v2_path = '../../data/anndata_folder_scRNAseq/LPSV2.h5ad'#"
   ]
  },
  {
   "cell_type": "code",
   "execution_count": 4,
   "id": "83cd4d40-5cc0-4910-9b95-d033079923da",
   "metadata": {},
   "outputs": [],
   "source": [
    "lps_v1 = sc.read_h5ad(lps_v1_path)\n",
    "lps_v2 = sc.read_h5ad(lps_v2_path)"
   ]
  },
  {
   "cell_type": "code",
   "execution_count": 5,
   "id": "1d9ca2c1-05f5-4849-b9a8-6fc25cea0fa0",
   "metadata": {},
   "outputs": [],
   "source": [
    "ct = 'Monocyte'\n",
    "stim_v1 = lps_v1[lps_v1.obs.celltype == ct].to_df()\n",
    "stim_v2 = lps_v2[lps_v2.obs.celltype == ct].to_df() \n"
   ]
  },
  {
   "cell_type": "code",
   "execution_count": 6,
   "id": "7ab37549-9634-490f-a687-f70fc27142ff",
   "metadata": {},
   "outputs": [],
   "source": [
    "#Only take columns that are found in both countmatrices\n",
    "stim_v1 = stim_v1[stim_v1.columns[stim_v1.columns.isin(stim_v2.columns)]]\n",
    "stim_v2 = stim_v2[stim_v2.columns[stim_v2.columns.isin(stim_v1.columns)]]"
   ]
  },
  {
   "cell_type": "code",
   "execution_count": 7,
   "id": "4f315e9a-6969-426f-a956-3d4cd15f8b18",
   "metadata": {},
   "outputs": [],
   "source": [
    "hallmark_ifna = [\"CMTR1\",\"HERC6\", \"IFIH1\", \"IFIT2\", \"OASL\", \"IRF7\", \"DDX60\", \"CNP\", \"RSAD2\", \"TMEM140\", \"OAS1\", \"PARP14\", \"TRIM5\", \"EIF2AK2\", \"LGALS3BP\", \"TRIM21\", \"STAT2\", \"PNPT1\", \"HELZ2\", \"USP18\", \"TXNIP\", \"GBP4\", \"RTP4\", \"TRAFD1\", \"MOV10\",\n",
    "                 \"LY6E\", \"IFI35\", \"MX1\", \"ISG20\", \"CXCL11\", \"IFIT3\", \"SAMD9\", \"PARP12\", \"DHX58\", \"LPAR6\", \"IFITM3\", \"SELL\", \"ADAR\", \"TRIM25\", \"SP110\", \"NUB1\", \"IRF2\", \"GMPR\", \"ELF1\"]\n"
   ]
  },
  {
   "cell_type": "code",
   "execution_count": 8,
   "id": "f974fec7-8b74-4235-91bf-54a93dc7f65d",
   "metadata": {},
   "outputs": [],
   "source": [
    "hallmark_tnf = [\"GEM\", \"CCL20\", \"MSC\", \"IL23A\", \"CD80\", \"TUBB2A\", \"IL1A\", \"IL6\", \"FOSL1\", \"DUSP4\", \"INHBA\", \"PLAU\", \"CD83\",\n",
    "                \"F3\", \"CXCL2\", \"EDN1\", \"GFPT2\",\"TRAF1\", \"SOCS3\", \"RCAN1\",\"ZC3H12A\", \"PMEPA1\", \"SPSB1\", \"GADD45B\", \"GADD45A\", \"BTG3\",\n",
    "                \"PPP1R15A\", \"SERPINB2\", \"ID2\", \"BIRC3\", \"SOD2\", \"HES1\", \"TNFAIP6\", \"G0S2\", \"EIF1\", \"CD44\", \"MAFF\", \"ICAM1\", \"MAP3K8\",\n",
    "               \"YRDC\", \"BCL2A1\", \"DUSP2\", \"PFKFB3\", \"LAMB3\", \"EFNA1\", \"CLCF1\", \"TNIP2\", \"ZBTB10\", \"EGR2\", \"IL1B\", \"MAP2K3\", \"NR4A2\",\n",
    "               \"CCND1\", \"TNFAIP2\", \"TNF\", \"TNFAIP8\", \"NFKB2\", \"KYNU\", \"TNFAIP3\", \"BCL6\", \"CEBPB\", \"NAMPT\", \"SLC2A6\", \"CCRL2\"]"
   ]
  },
  {
   "cell_type": "code",
   "execution_count": 9,
   "id": "8f931c9d-c49c-4b2d-81aa-c7033130b2af",
   "metadata": {},
   "outputs": [],
   "source": [
    "inhouse_btms = pd.DataFrame({'ID':['Hallmark IFNa', 'Hallmark TNF'], 'Module title': 'X', 'Composite name': ['Hallmark IFNa', 'Hallmark TNF'], 'Module category':'X', 'Annotation level':'X', 'Module member genes': [', '.join(hallmark_ifna), ', '.join(hallmark_tnf)]})\n"
   ]
  },
  {
   "cell_type": "code",
   "execution_count": 11,
   "id": "80dc380b-58e6-45dc-9f5f-d89ab37f7b99",
   "metadata": {},
   "outputs": [],
   "source": [
    "btm = pd.read_csv('../../btm_annotation_table.csv', sep = ';')\n",
    "btm = btm[['ID', 'Module title','Composite name', 'Module category', 'Annotation level', 'Module member genes']]"
   ]
  },
  {
   "cell_type": "code",
   "execution_count": 12,
   "id": "304fe0d7-3413-497a-9db3-5117b281edfe",
   "metadata": {},
   "outputs": [],
   "source": [
    "btm_append = btm.append(inhouse_btms)"
   ]
  },
  {
   "cell_type": "code",
   "execution_count": 13,
   "id": "b1a55905-044a-4ef7-bbe3-8cfcafdf65aa",
   "metadata": {
    "tags": []
   },
   "outputs": [],
   "source": [
    "btm_df_V1 = pd.DataFrame()\n",
    "btm_df_V2 = pd.DataFrame()\n",
    "\n",
    "dfs_btm = [btm_df_V1, btm_df_V2]\n",
    "dfs_data = [stim_v1, stim_v2]\n",
    "\n",
    "genes_included = pd.DataFrame(columns = ['Module', 'Genes'])\n",
    "\n",
    "btm_file = btm_append\n",
    "\n",
    "for i,df in enumerate(dfs_data):\n",
    "    for j in range(len(btm_file)):\n",
    "        markers = re.findall(r\"[\\w'-]+\", btm_file.iloc[j, 5])\n",
    "        #Take median of BTMs\n",
    "        temp = pd.DataFrame({btm_file.iloc[j, 0]:np.median(np.sum(df[df.columns[df.columns.isin(markers)]], axis = 1))}, index = [0])\n",
    "        genes_included = genes_included.append(pd.DataFrame({'Module': btm_file.iloc[j, 0], 'Composite Name':btm_file.iloc[j,2],'Genes': [df.columns[df.columns.isin(markers)].values]}, index=[0]))\n",
    "        \n",
    "        dfs_btm[i] = pd.concat([dfs_btm[i], temp], axis = 1)\n",
    "genes_included = genes_included.drop_duplicates(subset = 'Module')"
   ]
  },
  {
   "cell_type": "code",
   "execution_count": 14,
   "id": "ca2f2d4e-3c0b-48f7-940b-bf4368e838be",
   "metadata": {},
   "outputs": [],
   "source": [
    "btms_v1 = dfs_btm[0].T.reset_index()\n",
    "btms_v2 = dfs_btm[1].T.reset_index()"
   ]
  },
  {
   "cell_type": "code",
   "execution_count": 15,
   "id": "875eaaf9-fc50-4e06-8c52-44e8bf0e5326",
   "metadata": {},
   "outputs": [],
   "source": [
    "btms_v1.columns = ['module', 'sum']\n",
    "btms_v2.columns = ['module', 'sum']"
   ]
  },
  {
   "cell_type": "code",
   "execution_count": 16,
   "id": "6a7175b0-901a-446b-8590-c5b9fa501ffb",
   "metadata": {},
   "outputs": [],
   "source": [
    "df_btm_v1 = pd.DataFrame({'module':btms_v1.module, 'stim_values':btms_v1['sum']})\n",
    "df_btm_v2 = pd.DataFrame({'module':btms_v2.module, 'stim_values':btms_v2['sum']})"
   ]
  },
  {
   "cell_type": "code",
   "execution_count": 17,
   "id": "107f66ba-ad2b-4305-86b4-177bda299c16",
   "metadata": {},
   "outputs": [],
   "source": [
    "df_btm_v1['V'] = 'V1'\n",
    "df_btm_v2['V'] = 'V2'"
   ]
  },
  {
   "cell_type": "code",
   "execution_count": 18,
   "id": "4fd8c111-1aba-45ee-a53b-36b4a7922c69",
   "metadata": {},
   "outputs": [],
   "source": [
    "barplot_df = pd.concat([df_btm_v1, df_btm_v2])"
   ]
  },
  {
   "cell_type": "code",
   "execution_count": 19,
   "id": "cd34445d-ec91-427f-8007-541d5518e28b",
   "metadata": {},
   "outputs": [],
   "source": [
    "modules_lps = ['M13', 'M27.0', 'M29', 'M43.0', 'M86.1', 'M127', 'M165', 'Hallmark IFNa', 'Hallmark TNF']\n",
    "barplot_df = barplot_df[barplot_df.module.isin(modules_lps)]"
   ]
  },
  {
   "cell_type": "code",
   "execution_count": 19,
   "id": "1b8f2c99-b5f8-4ee0-bf95-94e8c37e1e8a",
   "metadata": {},
   "outputs": [
    {
     "data": {
      "text/plain": [
       "Text(0.5, 1.0, 'Monocyte - LPS V1 and V2')"
      ]
     },
     "execution_count": 19,
     "metadata": {},
     "output_type": "execute_result"
    },
    {
     "data": {
      "image/png": "[encoded data removed]",
      "text/plain": [
       "<Figure size 640x480 with 1 Axes>"
      ]
     },
     "metadata": {},
     "output_type": "display_data"
    }
   ],
   "source": [
    "new_rc_params = {\n",
    "\"font.family\": 'Times',\n",
    "\"font.size\": 8,\n",
    "\"font.serif\": [],\n",
    "\"svg.fonttype\": 'none'} #to store text as text, not as path\n",
    "plt.rcParams.update(new_rc_params)\n",
    "\n",
    "sns.barplot(x = 'module', y = 'stim_values', data = barplot_df, hue = 'V')\n",
    "plt.xticks(rotation = 45, )\n",
    "plt.ylabel('Median value of BTM-sum')\n",
    "plt.title('Monocyte - LPS V1 and V2')\n"
   ]
  },
  {
   "cell_type": "markdown",
   "id": "2cb33caf",
   "metadata": {},
   "source": [
    "## Calculating Bonferroni-corrected p-values"
   ]
  },
  {
   "cell_type": "code",
   "execution_count": 21,
   "id": "ae29b956",
   "metadata": {},
   "outputs": [],
   "source": [
    "btm_df_V1 = pd.DataFrame()\n",
    "btm_df_V2 = pd.DataFrame()\n",
    "\n",
    "dfs_btm = [btm_df_V1, btm_df_V2]\n",
    "dfs_data = [stim_v1, stim_v2]\n",
    "\n",
    "btm_file = btm_append\n",
    "\n",
    "for i,df in enumerate(dfs_data):\n",
    "    for j in range(len(btm_file)):\n",
    "        markers = re.findall(r\"[\\w'-]+\", btm_file.iloc[j, 5])\n",
    "        #Summarize BTMs for all cells\n",
    "        temp = pd.DataFrame({btm_file.iloc[j, 0]:np.sum(df[df.columns[df.columns.isin(markers)]], axis = 1).values})\n",
    "        dfs_btm[i] = pd.concat([dfs_btm[i], temp], axis = 1)\n",
    "        \n"
   ]
  },
  {
   "cell_type": "code",
   "execution_count": 22,
   "id": "c713f2e8",
   "metadata": {},
   "outputs": [],
   "source": [
    "btms_v1 = dfs_btm[0]\n",
    "btms_v2 = dfs_btm[1]"
   ]
  },
  {
   "cell_type": "code",
   "execution_count": 23,
   "id": "75ec7a1f",
   "metadata": {},
   "outputs": [],
   "source": [
    "monos_lps_t_test = pd.DataFrame()\n",
    "for m in modules_lps:\n",
    "    t_statistic, pvalue = stats.ttest_ind(a=btms_v1[m], b=btms_v2[m] )\n",
    "    temp = pd.DataFrame({'t_statistc': t_statistic, 'pvalue':pvalue}, index=[m])\n",
    "    monos_lps_t_test = pd.concat([monos_lps_t_test, temp])"
   ]
  },
  {
   "cell_type": "code",
   "execution_count": 24,
   "id": "50bebc4d",
   "metadata": {},
   "outputs": [],
   "source": [
    "p_adjusted = multipletests(monos_lps_t_test['pvalue'], method='bonferroni')\n",
    "monos_lps_t_test['p_adjusted'] = p_adjusted[1]"
   ]
  },
  {
   "cell_type": "code",
   "execution_count": 25,
   "id": "dd15000a",
   "metadata": {},
   "outputs": [
    {
     "data": {
      "text/html": [
       "<div>\n",
       "<style scoped>\n",
       "    .dataframe tbody tr th:only-of-type {\n",
       "        vertical-align: middle;\n",
       "    }\n",
       "\n",
       "    .dataframe tbody tr th {\n",
       "        vertical-align: top;\n",
       "    }\n",
       "\n",
       "    .dataframe thead th {\n",
       "        text-align: right;\n",
       "    }\n",
       "</style>\n",
       "<table border=\"1\" class=\"dataframe\">\n",
       "  <thead>\n",
       "    <tr style=\"text-align: right;\">\n",
       "      <th></th>\n",
       "      <th>t_statistc</th>\n",
       "      <th>pvalue</th>\n",
       "      <th>p_adjusted</th>\n",
       "    </tr>\n",
       "  </thead>\n",
       "  <tbody>\n",
       "    <tr>\n",
       "      <th>M13</th>\n",
       "      <td>-3.138497</td>\n",
       "      <td>0.001755</td>\n",
       "      <td>0.015798</td>\n",
       "    </tr>\n",
       "    <tr>\n",
       "      <th>M27.0</th>\n",
       "      <td>-3.016339</td>\n",
       "      <td>0.002633</td>\n",
       "      <td>0.023695</td>\n",
       "    </tr>\n",
       "    <tr>\n",
       "      <th>M29</th>\n",
       "      <td>-3.639858</td>\n",
       "      <td>0.000289</td>\n",
       "      <td>0.002600</td>\n",
       "    </tr>\n",
       "    <tr>\n",
       "      <th>M43.0</th>\n",
       "      <td>-0.367090</td>\n",
       "      <td>0.713641</td>\n",
       "      <td>1.000000</td>\n",
       "    </tr>\n",
       "    <tr>\n",
       "      <th>M86.1</th>\n",
       "      <td>-2.510310</td>\n",
       "      <td>0.012243</td>\n",
       "      <td>0.110185</td>\n",
       "    </tr>\n",
       "    <tr>\n",
       "      <th>M127</th>\n",
       "      <td>2.293666</td>\n",
       "      <td>0.022047</td>\n",
       "      <td>0.198423</td>\n",
       "    </tr>\n",
       "    <tr>\n",
       "      <th>M165</th>\n",
       "      <td>-1.682799</td>\n",
       "      <td>0.092772</td>\n",
       "      <td>0.834951</td>\n",
       "    </tr>\n",
       "    <tr>\n",
       "      <th>Hallmark IFNa</th>\n",
       "      <td>2.736974</td>\n",
       "      <td>0.006327</td>\n",
       "      <td>0.056943</td>\n",
       "    </tr>\n",
       "    <tr>\n",
       "      <th>Hallmark TNF</th>\n",
       "      <td>-4.177678</td>\n",
       "      <td>0.000032</td>\n",
       "      <td>0.000292</td>\n",
       "    </tr>\n",
       "  </tbody>\n",
       "</table>\n",
       "</div>"
      ],
      "text/plain": [
       "               t_statistc    pvalue  p_adjusted\n",
       "M13             -3.138497  0.001755    0.015798\n",
       "M27.0           -3.016339  0.002633    0.023695\n",
       "M29             -3.639858  0.000289    0.002600\n",
       "M43.0           -0.367090  0.713641    1.000000\n",
       "M86.1           -2.510310  0.012243    0.110185\n",
       "M127             2.293666  0.022047    0.198423\n",
       "M165            -1.682799  0.092772    0.834951\n",
       "Hallmark IFNa    2.736974  0.006327    0.056943\n",
       "Hallmark TNF    -4.177678  0.000032    0.000292"
      ]
     },
     "execution_count": 25,
     "metadata": {},
     "output_type": "execute_result"
    }
   ],
   "source": [
    "monos_lps_t_test"
   ]
  }
 ],
 "metadata": {
  "kernelspec": {
   "display_name": "Python 3 (ipykernel)",
   "language": "python",
   "name": "python3"
  },
  "language_info": {
   "codemirror_mode": {
    "name": "ipython",
    "version": 3
   },
   "file_extension": ".py",
   "mimetype": "text/x-python",
   "name": "python",
   "nbconvert_exporter": "python",
   "pygments_lexer": "ipython3",
   "version": "3.10.6"
  }
 },
 "nbformat": 4,
 "nbformat_minor": 5
}
