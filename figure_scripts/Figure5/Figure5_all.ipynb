{
 "cells": [
  {
   "cell_type": "code",
   "execution_count": 1,
   "id": "c650dc72-c725-45fb-a39e-2cfcd6955438",
   "metadata": {},
   "outputs": [],
   "source": [
    "import anndata as ad\n",
    "import numpy as np\n",
    "import pandas as pd\n",
    "import scanpy as sc\n",
    "import seaborn as sns\n",
    "import matplotlib.pyplot as plt\n",
    "import matplotlib as mpl\n",
    "import re\n",
    "import scipy\n",
    "from scipy import sparse\n",
    "import os\n",
    "import scipy.stats as stats\n",
    "\n",
    "from matplotlib import rcParams\n",
    "from tqdm import tqdm\n",
    "\n",
    "from scipy.stats import pearsonr\n",
    "\n",
    "\n",
    "import warnings\n",
    "warnings.filterwarnings(\"ignore\")"
   ]
  },
  {
   "cell_type": "code",
   "execution_count": null,
   "id": "179eda76-719e-47e1-a08a-692479be1f7a",
   "metadata": {},
   "outputs": [],
   "source": []
  },
  {
   "cell_type": "code",
   "execution_count": 2,
   "id": "b40f7bbb-3fc2-41c9-92db-e0dc5f30be52",
   "metadata": {},
   "outputs": [],
   "source": [
    "def get_btm_df_withPvalues(stim_df_1, stim_df_2, module):\n",
    "    hallmark_ifna = [\"CMTR1\",\"HERC6\", \"IFIH1\", \"IFIT2\", \"OASL\", \"IRF7\", \"DDX60\", \"CNP\", \"RSAD2\", \"TMEM140\", \"OAS1\", \"PARP14\", \"TRIM5\", \"EIF2AK2\", \"LGALS3BP\", \"TRIM21\", \"STAT2\", \"PNPT1\", \"HELZ2\", \"USP18\", \"TXNIP\", \"GBP4\", \"RTP4\", \"TRAFD1\", \"MOV10\",\n",
    "                 \"LY6E\", \"IFI35\", \"MX1\", \"ISG20\", \"CXCL11\", \"IFIT3\", \"SAMD9\", \"PARP12\", \"DHX58\", \"LPAR6\", \"IFITM3\", \"SELL\", \"ADAR\", \"TRIM25\", \"SP110\", \"NUB1\", \"IRF2\", \"GMPR\", \"ELF1\"]\n",
    "\n",
    "    hallmark_tnf = [\"GEM\", \"CCL20\", \"MSC\", \"IL23A\", \"CD80\", \"TUBB2A\", \"IL1A\", \"IL6\", \"FOSL1\", \"DUSP4\", \"INHBA\", \"PLAU\", \"CD83\",\n",
    "                \"F3\", \"CXCL2\", \"EDN1\", \"GFPT2\",\"TRAF1\", \"SOCS3\", \"RCAN1\",\"ZC3H12A\", \"PMEPA1\", \"SPSB1\", \"GADD45B\", \"GADD45A\", \"BTG3\",\n",
    "                \"PPP1R15A\", \"SERPINB2\", \"ID2\", \"BIRC3\", \"SOD2\", \"HES1\", \"TNFAIP6\", \"G0S2\", \"EIF1\", \"CD44\", \"MAFF\", \"ICAM1\", \"MAP3K8\",\n",
    "               \"YRDC\", \"BCL2A1\", \"DUSP2\", \"PFKFB3\", \"LAMB3\", \"EFNA1\", \"CLCF1\", \"TNIP2\", \"ZBTB10\", \"EGR2\", \"IL1B\", \"MAP2K3\", \"NR4A2\",\n",
    "               \"CCND1\", \"TNFAIP2\", \"TNF\", \"TNFAIP8\", \"NFKB2\", \"KYNU\", \"TNFAIP3\", \"BCL6\", \"CEBPB\", \"NAMPT\", \"SLC2A6\", \"CCRL2\"]\n",
    "    \n",
    "    inhouse_btms = pd.DataFrame({'ID':['Hallmark IFNa', 'Hallmark TNF'], 'Module title': 'X', 'Composite name': ['Hallmark IFNa', 'Hallmark TNF'], 'Module category':'X', 'Annotation level':'X', 'Module member genes': [', '.join(hallmark_ifna), ', '.join(hallmark_tnf)]})\n",
    "    \n",
    "    #btm_annotation table from Li et al: https://www.ncbi.nlm.nih.gov/pmc/articles/PMC3946932/\n",
    "    btm = pd.read_csv('../../btm_annotation_table.csv', sep = ';')\n",
    "    btm = btm[['ID', 'Module title','Composite name', 'Module category', 'Annotation level', 'Module member genes']]\n",
    "    btm_append = btm.append(inhouse_btms)\n",
    "\n",
    "    if module == 'TNF':\n",
    "        modules = ['M127', 'M165', 'Hallmark IFNa', 'Hallmark TNF']\n",
    "    if module == 'IFN':\n",
    "        modules = ['M146', 'S5', 'Hallmark IFNa', 'Hallmark TNF']\n",
    "    btm_append = btm_append[btm_append.ID.isin(modules)]\n",
    "    \n",
    "    btm_df_V1 = pd.DataFrame()\n",
    "    btm_df_V2 = pd.DataFrame()\n",
    "    dfs_btm_pval = pd.DataFrame()\n",
    "\n",
    "    dfs_btm = [btm_df_V1, btm_df_V2]\n",
    "    dfs_data = [stim_df_1, stim_df_2]\n",
    "\n",
    "    genes_included = pd.DataFrame(columns = ['Module', 'Genes'])\n",
    "    \n",
    "    for i,df in enumerate(dfs_data):\n",
    "        for j in range(len(btm_append)):\n",
    "            markers = re.findall(r\"[\\w'-]+\", btm_append.iloc[j, 5])\n",
    "            #Take median of BTMs\n",
    "            temp = pd.DataFrame({btm_append.iloc[j, 0]:np.median(np.sum(df[df.columns[df.columns.isin(markers)]], axis = 1))}, index = [0])\n",
    "            genes_included = genes_included.append(pd.DataFrame({'Module': btm_append.iloc[j, 0], 'Composite Name':btm_append.iloc[j,2],'Genes': [df.columns[df.columns.isin(markers)].values]}, index=[0]))\n",
    "            dfs_btm[i] = pd.concat([dfs_btm[i], temp], axis = 1)\n",
    "            \n",
    "    #For p-values\n",
    "    for j in range(len(btm_append)):\n",
    "        markers = re.findall(r\"[\\w'-]+\", btm_append.iloc[j, 5])\n",
    "        df1_sum = np.sum(stim_df_1[stim_df_1.columns[stim_df_1.columns.isin(markers)]], axis = 1)\n",
    "        df2_sum = np.sum(stim_df_2[stim_df_2.columns[stim_df_2.columns.isin(markers)]], axis = 1)\n",
    "        t_statistic, pvalue = stats.ttest_ind(a=np.log1p(df1_sum), b=np.log1p(df2_sum))\n",
    "        \n",
    "        temp_pval = pd.DataFrame({'t_statistic':t_statistic, 'pvalue':pvalue}, index = [btm_append.iloc[j, 0]])\n",
    "        dfs_btm_pval = pd.concat([dfs_btm_pval, temp_pval], axis = 0)\n",
    "\n",
    "    genes_included = genes_included.drop_duplicates(subset = 'Module')\n",
    "        \n",
    "    btms_v1 = dfs_btm[0].T.reset_index()\n",
    "    btms_v2 = dfs_btm[1].T.reset_index()\n",
    "    \n",
    "    btms_v1.columns = ['module', 'sum']\n",
    "    btms_v2.columns = ['module', 'sum']\n",
    "    \n",
    "    df_btm_v1 = pd.DataFrame({'module':btms_v1.module, 'stim_values':btms_v1['sum']})\n",
    "    df_btm_v2 = pd.DataFrame({'module':btms_v2.module, 'stim_values':btms_v2['sum']})\n",
    "    \n",
    "    df_btm_v1['Sex'] = 'Female'\n",
    "    df_btm_v2['Sex'] = 'Male'\n",
    "    \n",
    "    barplot_df = pd.concat([df_btm_v1, df_btm_v2])\n",
    "    barplot_df = barplot_df[barplot_df.module.isin(modules)]\n",
    "    \n",
    "    return barplot_df, dfs_btm_pval"
   ]
  },
  {
   "cell_type": "code",
   "execution_count": null,
   "id": "e7a16f8b-3cef-447f-a080-c2e7ae633d5f",
   "metadata": {},
   "outputs": [],
   "source": []
  },
  {
   "cell_type": "markdown",
   "id": "1a170cef-a8bd-4684-9c28-d8b1ecba0cfe",
   "metadata": {
    "tags": []
   },
   "source": [
    "# Figure 5b - pDCs and Monocytes from Covid-patients (Blood Atlas)"
   ]
  },
  {
   "cell_type": "code",
   "execution_count": 3,
   "id": "a91b9854-c6c7-4b6a-bf80-bd53b96eeb71",
   "metadata": {},
   "outputs": [],
   "source": [
    "### Blood Atlas ###\n",
    "ct = 'pDC'\n",
    "#data from Blood Atlas of COVID-19 https://pubmed.ncbi.nlm.nih.gov/35216673/\n",
    "blood_atlas = sc.read('insert data from BloodAtlas pathway here')\n",
    "\n",
    "blood_atlas = blood_atlas[blood_atlas.obs.Age < 5]\n",
    "blood_atlas = blood_atlas[blood_atlas.obs.TimeSinceOnset < 7]\n",
    "sc.pp.normalize_total(blood_atlas, target_sum = 1e4)\n",
    "blood_atlas = blood_atlas[blood_atlas.obs.minor_subset == ct]\n",
    "stim_M_bloodatlas = blood_atlas[(blood_atlas.obs.sex == 'male')].to_df()\n",
    "stim_F_bloodatlas = blood_atlas[(blood_atlas.obs.sex == 'female')].to_df()\n"
   ]
  },
  {
   "cell_type": "code",
   "execution_count": 4,
   "id": "2351d5eb-2668-48f5-80c8-8b4eaa7e1b20",
   "metadata": {},
   "outputs": [],
   "source": [
    "barplot_df_bloodatlas, df_bloodatlas_pvalues = get_btm_df_withPvalues(stim_F_bloodatlas, stim_M_bloodatlas, 'IFN')"
   ]
  },
  {
   "cell_type": "code",
   "execution_count": 5,
   "id": "c1c96b2b-2b5d-433d-9500-3275bce7cee9",
   "metadata": {},
   "outputs": [
    {
     "data": {
      "image/png": "[encoded data removed]",
      "text/plain": [
       "<Figure size 640x480 with 1 Axes>"
      ]
     },
     "metadata": {},
     "output_type": "display_data"
    }
   ],
   "source": [
    "new_rc_params = {\n",
    "\"font.family\": 'Times',\n",
    "\"font.size\": 8,\n",
    "\"font.serif\": [],\n",
    "\"svg.fonttype\": 'none'} #to store text as text, not as path\n",
    "plt.rcParams.update(new_rc_params)\n",
    "\n",
    "sns.barplot(y = 'module', x = 'stim_values', data = barplot_df_bloodatlas, hue = 'Sex')\n",
    "plt.suptitle('pDC in Public Data-BLOOD ATLAS - IFN-modules', fontsize = 16)\n",
    "plt.tight_layout()\n",
    "\n",
    "#plt.savefig('figures/publicly_available_data_hallmarkIFNaPDCs.png')"
   ]
  },
  {
   "cell_type": "code",
   "execution_count": 12,
   "id": "deae6683-e21d-467a-a17e-96fc7d884c03",
   "metadata": {},
   "outputs": [
    {
     "data": {
      "text/html": [
       "<div>\n",
       "<style scoped>\n",
       "    .dataframe tbody tr th:only-of-type {\n",
       "        vertical-align: middle;\n",
       "    }\n",
       "\n",
       "    .dataframe tbody tr th {\n",
       "        vertical-align: top;\n",
       "    }\n",
       "\n",
       "    .dataframe thead th {\n",
       "        text-align: right;\n",
       "    }\n",
       "</style>\n",
       "<table border=\"1\" class=\"dataframe\">\n",
       "  <thead>\n",
       "    <tr style=\"text-align: right;\">\n",
       "      <th></th>\n",
       "      <th>t_statistic</th>\n",
       "      <th>pvalue</th>\n",
       "    </tr>\n",
       "  </thead>\n",
       "  <tbody>\n",
       "    <tr>\n",
       "      <th>M146</th>\n",
       "      <td>2.289244</td>\n",
       "      <td>0.023540</td>\n",
       "    </tr>\n",
       "    <tr>\n",
       "      <th>S5</th>\n",
       "      <td>0.672759</td>\n",
       "      <td>0.502194</td>\n",
       "    </tr>\n",
       "    <tr>\n",
       "      <th>Hallmark IFNa</th>\n",
       "      <td>2.594627</td>\n",
       "      <td>0.010463</td>\n",
       "    </tr>\n",
       "    <tr>\n",
       "      <th>Hallmark TNF</th>\n",
       "      <td>2.273195</td>\n",
       "      <td>0.024515</td>\n",
       "    </tr>\n",
       "  </tbody>\n",
       "</table>\n",
       "</div>"
      ],
      "text/plain": [
       "               t_statistic    pvalue\n",
       "M146              2.289244  0.023540\n",
       "S5                0.672759  0.502194\n",
       "Hallmark IFNa     2.594627  0.010463\n",
       "Hallmark TNF      2.273195  0.024515"
      ]
     },
     "execution_count": 12,
     "metadata": {},
     "output_type": "execute_result"
    }
   ],
   "source": [
    "df_bloodatlas_pvalues"
   ]
  },
  {
   "cell_type": "code",
   "execution_count": null,
   "id": "54bc1cf7-0bfb-42fd-b71b-109f79bc2d3a",
   "metadata": {},
   "outputs": [],
   "source": []
  },
  {
   "cell_type": "code",
   "execution_count": 27,
   "id": "733723dc-e151-4e98-8029-86244be7d614",
   "metadata": {},
   "outputs": [],
   "source": [
    "### Blood Atlas - Monocytes ###\n",
    "#data from Blood Atlas of COVID-19 https://pubmed.ncbi.nlm.nih.gov/35216673/\n",
    "blood_atlas = sc.read('insert data from BloodAtlas pathway here')\n",
    "blood_atlas = blood_atlas[blood_atlas.obs.Age < 5]\n",
    "blood_atlas = blood_atlas[blood_atlas.obs.TimeSinceOnset < 10]\n",
    "sc.pp.normalize_total(blood_atlas, target_sum = 1e4)\n",
    "blood_atlas = blood_atlas[blood_atlas.obs.major_subset.isin(['cMono', 'ncMono'])]\n",
    "\n",
    "stim_M_bloodatlas = blood_atlas[(blood_atlas.obs.sex == 'male')].to_df()\n",
    "stim_F_bloodatlas = blood_atlas[(blood_atlas.obs.sex == 'female')].to_df()\n"
   ]
  },
  {
   "cell_type": "code",
   "execution_count": 28,
   "id": "0d12f6fd-68bd-410a-ab17-36bc621fe656",
   "metadata": {},
   "outputs": [],
   "source": [
    "barplot_df_bloodatlas, df_bloodatlas_pvalues = get_btm_df_withPvalues(stim_F_bloodatlas, stim_M_bloodatlas, 'TNF')"
   ]
  },
  {
   "cell_type": "code",
   "execution_count": 36,
   "id": "fb008e75-fcb7-4246-a3d5-dc2d91cb3754",
   "metadata": {},
   "outputs": [
    {
     "data": {
      "image/png": "[encoded data removed]",
      "text/plain": [
       "<Figure size 640x480 with 1 Axes>"
      ]
     },
     "metadata": {},
     "output_type": "display_data"
    }
   ],
   "source": [
    "new_rc_params = {\n",
    "\"font.family\": 'Times',\n",
    "\"font.size\": 8,\n",
    "\"font.serif\": [],\n",
    "\"svg.fonttype\": 'none'} #to store text as text, not as path\n",
    "plt.rcParams.update(new_rc_params)\n",
    "\n",
    "sns.barplot(y = 'module', x = 'stim_values', data = barplot_df_bloodatlas, hue = 'Sex')\n",
    "plt.suptitle('Monocytes in Public Data-BLOOD ATLAS - TNF-modules', fontsize = 16)\n",
    "plt.tight_layout()\n",
    "\n",
    "#plt.savefig('figures/publicly_available_data_hallmarkTNFaMonocytes.svg')"
   ]
  },
  {
   "cell_type": "code",
   "execution_count": 31,
   "id": "b07a41df-139b-40e7-aef3-4ee0c04920c0",
   "metadata": {},
   "outputs": [
    {
     "data": {
      "text/html": [
       "<div>\n",
       "<style scoped>\n",
       "    .dataframe tbody tr th:only-of-type {\n",
       "        vertical-align: middle;\n",
       "    }\n",
       "\n",
       "    .dataframe tbody tr th {\n",
       "        vertical-align: top;\n",
       "    }\n",
       "\n",
       "    .dataframe thead th {\n",
       "        text-align: right;\n",
       "    }\n",
       "</style>\n",
       "<table border=\"1\" class=\"dataframe\">\n",
       "  <thead>\n",
       "    <tr style=\"text-align: right;\">\n",
       "      <th></th>\n",
       "      <th>t_statistic</th>\n",
       "      <th>pvalue</th>\n",
       "    </tr>\n",
       "  </thead>\n",
       "  <tbody>\n",
       "    <tr>\n",
       "      <th>M127</th>\n",
       "      <td>36.085519</td>\n",
       "      <td>7.741008e-280</td>\n",
       "    </tr>\n",
       "    <tr>\n",
       "      <th>M165</th>\n",
       "      <td>15.061319</td>\n",
       "      <td>4.259671e-51</td>\n",
       "    </tr>\n",
       "    <tr>\n",
       "      <th>Hallmark IFNa</th>\n",
       "      <td>40.600335</td>\n",
       "      <td>0.000000e+00</td>\n",
       "    </tr>\n",
       "    <tr>\n",
       "      <th>Hallmark TNF</th>\n",
       "      <td>-12.622275</td>\n",
       "      <td>1.922734e-36</td>\n",
       "    </tr>\n",
       "  </tbody>\n",
       "</table>\n",
       "</div>"
      ],
      "text/plain": [
       "               t_statistic         pvalue\n",
       "M127             36.085519  7.741008e-280\n",
       "M165             15.061319   4.259671e-51\n",
       "Hallmark IFNa    40.600335   0.000000e+00\n",
       "Hallmark TNF    -12.622275   1.922734e-36"
      ]
     },
     "execution_count": 31,
     "metadata": {},
     "output_type": "execute_result"
    }
   ],
   "source": [
    "df_bloodatlas_pvalues"
   ]
  },
  {
   "cell_type": "code",
   "execution_count": null,
   "id": "a1565628-fa9e-4107-86b1-a06bb50be809",
   "metadata": {},
   "outputs": [],
   "source": []
  },
  {
   "cell_type": "code",
   "execution_count": null,
   "id": "49c1e2a2-5768-483a-9a92-dbe3f3faa897",
   "metadata": {},
   "outputs": [],
   "source": []
  },
  {
   "cell_type": "code",
   "execution_count": null,
   "id": "6cc3a019-92ee-428b-a5ca-b4a780f9a400",
   "metadata": {},
   "outputs": [],
   "source": []
  },
  {
   "cell_type": "markdown",
   "id": "1951d3c4-6fee-47cc-af8d-212ea8424bbb",
   "metadata": {
    "tags": []
   },
   "source": [
    "# Figure 5c - pDCs and Monocytes from Covid-patients (Zhao et al)"
   ]
  },
  {
   "cell_type": "code",
   "execution_count": 32,
   "id": "821660ad-558f-42c5-884c-5912c5736c84",
   "metadata": {},
   "outputs": [],
   "source": [
    "ct = 'pDC' \n",
    "\n",
    "#downloaded data from Zhao et al: https://www.nature.com/articles/s41392-021-00753-7\n",
    "cnp = sc.read('insert data from Zhao et al pathway here')\n",
    "cnp = cnp[cnp.obs.age < 50]\n",
    "cnp = cnp[cnp.obs.days < 7]\n",
    "sc.pp.normalize_total(cnp, target_sum = 1e4)\n",
    "stim_M_cnp = cnp[(cnp.obs.sex == 'M') & (cnp.obs.celltype_lowerres.str.contains(ct))].to_df()\n",
    "stim_F_cnp = cnp[(cnp.obs.sex == 'F') & (cnp.obs.celltype_lowerres.str.contains(ct))].to_df()\n"
   ]
  },
  {
   "cell_type": "code",
   "execution_count": 33,
   "id": "1bdc0044-6990-485e-a757-2057c19b0d2d",
   "metadata": {},
   "outputs": [],
   "source": [
    "barplot_df_cnp, df_cnp_pvalues = get_btm_df_withPvalues(stim_F_cnp, stim_M_cnp, 'IFN')"
   ]
  },
  {
   "cell_type": "code",
   "execution_count": 39,
   "id": "4d26df95-3f66-46fe-a330-4e3a0ff8b0d8",
   "metadata": {},
   "outputs": [
    {
     "data": {
      "image/png": "[encoded data removed]",
      "text/plain": [
       "<Figure size 640x480 with 1 Axes>"
      ]
     },
     "metadata": {},
     "output_type": "display_data"
    }
   ],
   "source": [
    "new_rc_params = {\n",
    "\"font.family\": 'Times',\n",
    "\"font.size\": 8,\n",
    "\"font.serif\": [],\n",
    "\"svg.fonttype\": 'none'} #to store text as text, not as path\n",
    "plt.rcParams.update(new_rc_params)\n",
    "\n",
    "sns.barplot(y = 'module', x = 'stim_values', data = barplot_df_cnp, hue = 'Sex')\n",
    "plt.suptitle('pDC in Public Data-LIFELINES - IFN-modules', fontsize = 16)\n",
    "plt.tight_layout()\n",
    "\n",
    "#plt.savefig('figures/publicly_available_data_hallmarkIFNaPDCs.png')"
   ]
  },
  {
   "cell_type": "code",
   "execution_count": 40,
   "id": "1a2a7a8b-0508-49d6-a006-ddf458e20d49",
   "metadata": {},
   "outputs": [
    {
     "data": {
      "text/html": [
       "<div>\n",
       "<style scoped>\n",
       "    .dataframe tbody tr th:only-of-type {\n",
       "        vertical-align: middle;\n",
       "    }\n",
       "\n",
       "    .dataframe tbody tr th {\n",
       "        vertical-align: top;\n",
       "    }\n",
       "\n",
       "    .dataframe thead th {\n",
       "        text-align: right;\n",
       "    }\n",
       "</style>\n",
       "<table border=\"1\" class=\"dataframe\">\n",
       "  <thead>\n",
       "    <tr style=\"text-align: right;\">\n",
       "      <th></th>\n",
       "      <th>t_statistic</th>\n",
       "      <th>pvalue</th>\n",
       "    </tr>\n",
       "  </thead>\n",
       "  <tbody>\n",
       "    <tr>\n",
       "      <th>M146</th>\n",
       "      <td>0.423765</td>\n",
       "      <td>0.676496</td>\n",
       "    </tr>\n",
       "    <tr>\n",
       "      <th>S5</th>\n",
       "      <td>0.937096</td>\n",
       "      <td>0.360469</td>\n",
       "    </tr>\n",
       "    <tr>\n",
       "      <th>Hallmark IFNa</th>\n",
       "      <td>2.475241</td>\n",
       "      <td>0.022903</td>\n",
       "    </tr>\n",
       "    <tr>\n",
       "      <th>Hallmark TNF</th>\n",
       "      <td>-0.952152</td>\n",
       "      <td>0.352976</td>\n",
       "    </tr>\n",
       "  </tbody>\n",
       "</table>\n",
       "</div>"
      ],
      "text/plain": [
       "               t_statistic    pvalue\n",
       "M146              0.423765  0.676496\n",
       "S5                0.937096  0.360469\n",
       "Hallmark IFNa     2.475241  0.022903\n",
       "Hallmark TNF     -0.952152  0.352976"
      ]
     },
     "execution_count": 40,
     "metadata": {},
     "output_type": "execute_result"
    }
   ],
   "source": [
    "df_cnp_pvalues"
   ]
  },
  {
   "cell_type": "code",
   "execution_count": null,
   "id": "cef1f768-3063-4085-a665-c8306228ee78",
   "metadata": {},
   "outputs": [],
   "source": []
  },
  {
   "cell_type": "code",
   "execution_count": 41,
   "id": "a933413e-1d07-4051-9a7e-e8ec6e4018d4",
   "metadata": {},
   "outputs": [],
   "source": [
    "#### CNP - Monocytes ####\n",
    "ct = 'Monocytes' \n",
    "#downloaded data from Zhao et al: https://www.nature.com/articles/s41392-021-00753-7\n",
    "cnp = sc.read('insert data from Zhao et al pathway here')\n",
    "cnp = cnp[cnp.obs.age < 50]\n",
    "cnp = cnp[cnp.obs.days < 10]\n",
    "sc.pp.normalize_total(cnp, target_sum = 1e4)\n",
    "stim_M_cnp = cnp[(cnp.obs.sex == 'M') & (cnp.obs.celltype_lowerres.str.contains(ct))].to_df()\n",
    "stim_F_cnp = cnp[(cnp.obs.sex == 'F') & (cnp.obs.celltype_lowerres.str.contains(ct))].to_df()"
   ]
  },
  {
   "cell_type": "code",
   "execution_count": 42,
   "id": "2aecd81c-5d3d-4eb5-b658-7d04bd040c41",
   "metadata": {},
   "outputs": [],
   "source": [
    "barplot_df_cnp, df_cnp_pvalues = get_btm_df_withPvalues(stim_F_cnp, stim_M_cnp, 'TNF')"
   ]
  },
  {
   "cell_type": "code",
   "execution_count": 43,
   "id": "3bc11194-08fd-4167-9ae6-c7bd30374ece",
   "metadata": {},
   "outputs": [
    {
     "data": {
      "image/png": "[encoded data removed]",
      "text/plain": [
       "<Figure size 640x480 with 1 Axes>"
      ]
     },
     "metadata": {},
     "output_type": "display_data"
    }
   ],
   "source": [
    "new_rc_params = {\n",
    "\"font.family\": 'Times',\n",
    "\"font.size\": 8,\n",
    "\"font.serif\": [],\n",
    "\"svg.fonttype\": 'none'} #to store text as text, not as path\n",
    "plt.rcParams.update(new_rc_params)\n",
    "\n",
    "sns.barplot(y = 'module', x = 'stim_values', data = barplot_df_cnp, hue = 'Sex')\n",
    "plt.suptitle('Monocytes in Public Data-LIFELINES - TNF-modules', fontsize = 16)\n",
    "plt.tight_layout()\n",
    "\n",
    "#plt.savefig('figures/publicly_available_data_hallmarkIFNaPDCs.svg')"
   ]
  },
  {
   "cell_type": "code",
   "execution_count": 44,
   "id": "20ba796d-eb03-46cf-a927-f0d462155110",
   "metadata": {},
   "outputs": [
    {
     "data": {
      "text/html": [
       "<div>\n",
       "<style scoped>\n",
       "    .dataframe tbody tr th:only-of-type {\n",
       "        vertical-align: middle;\n",
       "    }\n",
       "\n",
       "    .dataframe tbody tr th {\n",
       "        vertical-align: top;\n",
       "    }\n",
       "\n",
       "    .dataframe thead th {\n",
       "        text-align: right;\n",
       "    }\n",
       "</style>\n",
       "<table border=\"1\" class=\"dataframe\">\n",
       "  <thead>\n",
       "    <tr style=\"text-align: right;\">\n",
       "      <th></th>\n",
       "      <th>t_statistic</th>\n",
       "      <th>pvalue</th>\n",
       "    </tr>\n",
       "  </thead>\n",
       "  <tbody>\n",
       "    <tr>\n",
       "      <th>M127</th>\n",
       "      <td>14.269000</td>\n",
       "      <td>3.235292e-45</td>\n",
       "    </tr>\n",
       "    <tr>\n",
       "      <th>M165</th>\n",
       "      <td>14.088985</td>\n",
       "      <td>3.770751e-44</td>\n",
       "    </tr>\n",
       "    <tr>\n",
       "      <th>Hallmark IFNa</th>\n",
       "      <td>20.233296</td>\n",
       "      <td>3.276699e-87</td>\n",
       "    </tr>\n",
       "    <tr>\n",
       "      <th>Hallmark TNF</th>\n",
       "      <td>-13.504420</td>\n",
       "      <td>9.013296e-41</td>\n",
       "    </tr>\n",
       "  </tbody>\n",
       "</table>\n",
       "</div>"
      ],
      "text/plain": [
       "               t_statistic        pvalue\n",
       "M127             14.269000  3.235292e-45\n",
       "M165             14.088985  3.770751e-44\n",
       "Hallmark IFNa    20.233296  3.276699e-87\n",
       "Hallmark TNF    -13.504420  9.013296e-41"
      ]
     },
     "execution_count": 44,
     "metadata": {},
     "output_type": "execute_result"
    }
   ],
   "source": [
    "df_cnp_pvalues"
   ]
  },
  {
   "cell_type": "code",
   "execution_count": null,
   "id": "16caae4c-2bac-4b88-9e71-7b1ded83d349",
   "metadata": {},
   "outputs": [],
   "source": []
  },
  {
   "cell_type": "code",
   "execution_count": null,
   "id": "2a90fc18-5098-4e97-924d-e26c60ea00d7",
   "metadata": {},
   "outputs": [],
   "source": []
  },
  {
   "cell_type": "markdown",
   "id": "44e835db-29f4-4c5b-9bd3-ea6b5d2316fb",
   "metadata": {
    "tags": []
   },
   "source": [
    "# Figure 5d - pDC and Monocytes in LifeLines cohort (Oelen et al)"
   ]
  },
  {
   "cell_type": "code",
   "execution_count": 82,
   "id": "ae39d494-d785-4745-ae2d-54b9919e55a9",
   "metadata": {},
   "outputs": [],
   "source": [
    "### EGAD pDC ###\n",
    "ct = 'pDC'\n",
    "#Download data from https://www.nature.com/articles/s41467-022-30893-5\n",
    "egad = sc.read('insert data from Oelen et al pathway')\n",
    "egad = egad[egad.obs.timepoint.str.contains('3hCA')]\n",
    "sc.pp.normalize_total(egad, target_sum = 1e4)\n",
    "egad.obs.age_fixed = egad.obs.age_fixed.astype(int)\n",
    "egad = egad[egad.obs.age_fixed < 50]\n",
    "dfm = egad[(egad.obs.sex == 'M') & (egad.obs.celltype_sub == ct)].to_df()\n",
    "dff = egad[(egad.obs.sex == 'F') & (egad.obs.celltype_sub == ct)].to_df()"
   ]
  },
  {
   "cell_type": "code",
   "execution_count": 83,
   "id": "4ad8e9b2-799b-4967-8849-b7c4296eca36",
   "metadata": {},
   "outputs": [],
   "source": [
    "barplot_df_egad, df_egad_pvalues = get_btm_df_withPvalues(dff, dfm, 'IFN')"
   ]
  },
  {
   "cell_type": "code",
   "execution_count": 84,
   "id": "8e8b2272-a57b-4418-938c-836473e0d489",
   "metadata": {},
   "outputs": [
    {
     "data": {
      "image/png": "[encoded data removed]",
      "text/plain": [
       "<Figure size 640x480 with 1 Axes>"
      ]
     },
     "metadata": {},
     "output_type": "display_data"
    }
   ],
   "source": [
    "new_rc_params = {\n",
    "\"font.family\": 'Times',\n",
    "\"font.size\": 8,\n",
    "\"font.serif\": [],\n",
    "\"svg.fonttype\": 'none'} #to store text as text, not as path\n",
    "plt.rcParams.update(new_rc_params)\n",
    "\n",
    "sns.barplot(y = 'module', x = 'stim_values', data = barplot_df_egad, hue = 'Sex')\n",
    "plt.suptitle('pDC in Public Data-LIFELINES - IFN-modules', fontsize = 16)\n",
    "plt.tight_layout()\n",
    "\n",
    "#plt.savefig('figures/publicly_available_data_hallmarkIFNaPDCs.svg')"
   ]
  },
  {
   "cell_type": "code",
   "execution_count": 85,
   "id": "924345a8-94f5-486a-a6a3-acc75063ac6c",
   "metadata": {},
   "outputs": [
    {
     "data": {
      "text/html": [
       "<div>\n",
       "<style scoped>\n",
       "    .dataframe tbody tr th:only-of-type {\n",
       "        vertical-align: middle;\n",
       "    }\n",
       "\n",
       "    .dataframe tbody tr th {\n",
       "        vertical-align: top;\n",
       "    }\n",
       "\n",
       "    .dataframe thead th {\n",
       "        text-align: right;\n",
       "    }\n",
       "</style>\n",
       "<table border=\"1\" class=\"dataframe\">\n",
       "  <thead>\n",
       "    <tr style=\"text-align: right;\">\n",
       "      <th></th>\n",
       "      <th>t_statistic</th>\n",
       "      <th>pvalue</th>\n",
       "    </tr>\n",
       "  </thead>\n",
       "  <tbody>\n",
       "    <tr>\n",
       "      <th>M146</th>\n",
       "      <td>-0.373521</td>\n",
       "      <td>0.709065</td>\n",
       "    </tr>\n",
       "    <tr>\n",
       "      <th>S5</th>\n",
       "      <td>0.053410</td>\n",
       "      <td>0.957446</td>\n",
       "    </tr>\n",
       "    <tr>\n",
       "      <th>Hallmark IFNa</th>\n",
       "      <td>2.283325</td>\n",
       "      <td>0.023218</td>\n",
       "    </tr>\n",
       "    <tr>\n",
       "      <th>Hallmark TNF</th>\n",
       "      <td>0.656628</td>\n",
       "      <td>0.512001</td>\n",
       "    </tr>\n",
       "  </tbody>\n",
       "</table>\n",
       "</div>"
      ],
      "text/plain": [
       "               t_statistic    pvalue\n",
       "M146             -0.373521  0.709065\n",
       "S5                0.053410  0.957446\n",
       "Hallmark IFNa     2.283325  0.023218\n",
       "Hallmark TNF      0.656628  0.512001"
      ]
     },
     "execution_count": 85,
     "metadata": {},
     "output_type": "execute_result"
    }
   ],
   "source": [
    "df_egad_pvalues"
   ]
  },
  {
   "cell_type": "code",
   "execution_count": null,
   "id": "8b9f3931-f2e4-45d4-9a49-efe3e8dd232f",
   "metadata": {},
   "outputs": [],
   "source": []
  },
  {
   "cell_type": "code",
   "execution_count": 60,
   "id": "e3af7666-8c3b-429e-a288-316aad2aa43d",
   "metadata": {},
   "outputs": [],
   "source": [
    "### EGAD Monocyte MTB-stim ###\n",
    "ct = 'monocyte'\n",
    "#Download data from https://www.nature.com/articles/s41467-022-30893-5\n",
    "egad = sc.read('insert data from Oelen et al pathway')\n",
    "egad = egad[egad.obs.timepoint.str.contains('MTB')] \n",
    "sc.pp.normalize_total(egad, target_sum = 1e4)\n",
    "egad.obs.age_fixed = egad.obs.age_fixed.astype(int)\n",
    "egad = egad[egad.obs.age_fixed < 50]\n",
    "dfm = egad[(egad.obs.sex == 'M') & (egad.obs.celltype == ct)].to_df()\n",
    "dff = egad[(egad.obs.sex == 'F') & (egad.obs.celltype == ct)].to_df()\n"
   ]
  },
  {
   "cell_type": "code",
   "execution_count": 61,
   "id": "28b8c0c5-4e85-40bb-8e01-5a066bd3d3fe",
   "metadata": {},
   "outputs": [],
   "source": [
    "barplot_df_egad, df_egad_pvalues = get_btm_df_withPvalues(dff, dfm, 'TNF')"
   ]
  },
  {
   "cell_type": "code",
   "execution_count": 62,
   "id": "205a3ffd-9587-4aed-ac6d-1312f384b137",
   "metadata": {},
   "outputs": [
    {
     "data": {
      "image/png": "[encoded data removed]",
      "text/plain": [
       "<Figure size 640x480 with 1 Axes>"
      ]
     },
     "metadata": {},
     "output_type": "display_data"
    }
   ],
   "source": [
    "new_rc_params = {\n",
    "\"font.family\": 'Times',\n",
    "\"font.size\": 8,\n",
    "\"font.serif\": [],\n",
    "\"svg.fonttype\": 'none'} #to store text as text, not as path\n",
    "plt.rcParams.update(new_rc_params)\n",
    "\n",
    "sns.barplot(y = 'module', x = 'stim_values', data = barplot_df_egad, hue = 'Sex')\n",
    "plt.suptitle('Monocytes in Public Data-LIFELINES - TNF-modules', fontsize = 16)\n",
    "plt.tight_layout()\n",
    "\n",
    "#plt.savefig('figures_temp_delete/publicly_available_data_hallmarkTNFaMonocytes_MTBstim.png')"
   ]
  },
  {
   "cell_type": "code",
   "execution_count": 63,
   "id": "93d52efe-e903-49a2-8360-cf497d17ae7a",
   "metadata": {},
   "outputs": [
    {
     "data": {
      "text/html": [
       "<div>\n",
       "<style scoped>\n",
       "    .dataframe tbody tr th:only-of-type {\n",
       "        vertical-align: middle;\n",
       "    }\n",
       "\n",
       "    .dataframe tbody tr th {\n",
       "        vertical-align: top;\n",
       "    }\n",
       "\n",
       "    .dataframe thead th {\n",
       "        text-align: right;\n",
       "    }\n",
       "</style>\n",
       "<table border=\"1\" class=\"dataframe\">\n",
       "  <thead>\n",
       "    <tr style=\"text-align: right;\">\n",
       "      <th></th>\n",
       "      <th>t_statistic</th>\n",
       "      <th>pvalue</th>\n",
       "    </tr>\n",
       "  </thead>\n",
       "  <tbody>\n",
       "    <tr>\n",
       "      <th>M127</th>\n",
       "      <td>3.091759</td>\n",
       "      <td>1.993969e-03</td>\n",
       "    </tr>\n",
       "    <tr>\n",
       "      <th>M165</th>\n",
       "      <td>-5.143313</td>\n",
       "      <td>2.738747e-07</td>\n",
       "    </tr>\n",
       "    <tr>\n",
       "      <th>Hallmark IFNa</th>\n",
       "      <td>5.167491</td>\n",
       "      <td>2.407827e-07</td>\n",
       "    </tr>\n",
       "    <tr>\n",
       "      <th>Hallmark TNF</th>\n",
       "      <td>-16.935606</td>\n",
       "      <td>1.187317e-63</td>\n",
       "    </tr>\n",
       "  </tbody>\n",
       "</table>\n",
       "</div>"
      ],
      "text/plain": [
       "               t_statistic        pvalue\n",
       "M127              3.091759  1.993969e-03\n",
       "M165             -5.143313  2.738747e-07\n",
       "Hallmark IFNa     5.167491  2.407827e-07\n",
       "Hallmark TNF    -16.935606  1.187317e-63"
      ]
     },
     "execution_count": 63,
     "metadata": {},
     "output_type": "execute_result"
    }
   ],
   "source": [
    "df_egad_pvalues"
   ]
  },
  {
   "cell_type": "code",
   "execution_count": null,
   "id": "e3065178-b559-4dce-abbd-5e04e0282685",
   "metadata": {},
   "outputs": [],
   "source": []
  },
  {
   "cell_type": "markdown",
   "id": "17da5e6c-c891-4923-b7b9-5fe6136e20e0",
   "metadata": {
    "tags": []
   },
   "source": [
    "# Figure 5e and 5 f - SLAMF7 in Monocytes"
   ]
  },
  {
   "cell_type": "code",
   "execution_count": 88,
   "id": "a9b9cd95-4aac-4312-a97c-54501fa54edd",
   "metadata": {},
   "outputs": [],
   "source": [
    "hallmark_tnf = [\"GEM\", \"CCL20\", \"MSC\", \"IL23A\", \"CD80\", \"TUBB2A\", \"IL1A\", \"IL6\", \"FOSL1\", \"DUSP4\", \"INHBA\", \"PLAU\", \"CD83\",\n",
    "                \"F3\", \"CXCL2\", \"EDN1\", \"GFPT2\",\"TRAF1\", \"SOCS3\", \"RCAN1\",\"ZC3H12A\", \"PMEPA1\", \"SPSB1\", \"GADD45B\", \"GADD45A\", \"BTG3\",\n",
    "                \"PPP1R15A\", \"SERPINB2\", \"ID2\", \"BIRC3\", \"SOD2\", \"HES1\", \"TNFAIP6\", \"G0S2\", \"EIF1\", \"CD44\", \"MAFF\", \"ICAM1\", \"MAP3K8\",\n",
    "               \"YRDC\", \"BCL2A1\", \"DUSP2\", \"PFKFB3\", \"LAMB3\", \"EFNA1\", \"CLCF1\", \"TNIP2\", \"ZBTB10\", \"EGR2\", \"IL1B\", \"MAP2K3\", \"NR4A2\",\n",
    "               \"CCND1\", \"TNFAIP2\", \"TNF\", \"TNFAIP8\", \"NFKB2\", \"KYNU\", \"TNFAIP3\", \"BCL6\", \"CEBPB\", \"NAMPT\", \"SLC2A6\", \"CCRL2\"]"
   ]
  },
  {
   "cell_type": "code",
   "execution_count": 89,
   "id": "8115fe38-514f-4f02-a004-5b8d567cf120",
   "metadata": {},
   "outputs": [
    {
     "data": {
      "text/plain": [
       "<matplotlib.legend.Legend at 0xf3ea40be0>"
      ]
     },
     "execution_count": 89,
     "metadata": {},
     "output_type": "execute_result"
    },
    {
     "data": {
      "image/png": "[encoded data removed]",
      "text/plain": [
       "<Figure size 640x480 with 1 Axes>"
      ]
     },
     "metadata": {},
     "output_type": "display_data"
    }
   ],
   "source": [
    "new_rc_params = {\n",
    "\"font.family\": 'Times',\n",
    "\"font.size\": 8,\n",
    "\"font.serif\": [],\n",
    "\"svg.fonttype\": 'none'} #to store text as text, not as path\n",
    "plt.rcParams.update(new_rc_params)\n",
    "\n",
    "##################################################\n",
    "#### EGAD  - SLAMF7 proportions male vs female ####\n",
    "##################################################\n",
    "slamf7_hallmark = pd.DataFrame(columns = ['negative', 'positive', 'sex'])\n",
    "ct = 'Monocyte'\n",
    "#Download data from https://www.nature.com/articles/s41467-022-30893-5\n",
    "egad = sc.read('insert data from Oelen et al pathway')\n",
    "\n",
    "egad = egad[egad.obs.timepoint.str.contains('TB')]\n",
    "sc.pp.normalize_total(egad, target_sum = 1e4)\n",
    "egad.obs.age_fixed = egad.obs.age_fixed.astype(int)\n",
    "egad.obs.celltype = egad.obs.celltype.replace('monocyte', 'Monocyte')\n",
    "egad = egad[egad.obs.age_fixed < 50]\n",
    "stim_v1_egad = egad[(egad.obs.sex == 'F') & (egad.obs.celltype == ct)].to_df()\n",
    "stim_v2_egad = egad[(egad.obs.sex == 'M') & (egad.obs.celltype == ct)].to_df()\n",
    "\n",
    "hallmark = hallmark_tnf\n",
    "gene = 'SLAMF7'\n",
    "v1_slamf7_n = stim_v1_egad[stim_v1_egad[gene] == 0]\n",
    "v1_slamf7_p = stim_v1_egad[stim_v1_egad[gene] > 0]\n",
    "\n",
    "v2_slamf7_n = stim_v2_egad[stim_v2_egad[gene] == 0]\n",
    "v2_slamf7_p = stim_v2_egad[stim_v2_egad[gene] > 0]    \n",
    "\n",
    "slamf7_hallmark.loc['female'] = [(len(v1_slamf7_n)/len(stim_v1_egad))*100,(len(v1_slamf7_p)/len(stim_v1_egad))*100,'female']\n",
    "slamf7_hallmark.loc['male'] = [(len(v2_slamf7_n)/len(stim_v2_egad))*100,(len(v2_slamf7_p)/len(stim_v2_egad))*100, 'male']\n",
    "\n",
    "\n",
    "ax = slamf7_hallmark.plot(kind = 'bar', x = 'sex', stacked = True)\n",
    "for p in ax.patches:\n",
    "    width, height = p.get_width(), p.get_height()\n",
    "    x, y = p.get_xy() \n",
    "    ax.text(x+width/2, \n",
    "            y+height/2, \n",
    "            '{:.0f} %'.format(height), \n",
    "            horizontalalignment='center', \n",
    "            verticalalignment='center')\n",
    "    \n",
    "plt.legend(bbox_to_anchor=(1.2, 1))\n",
    "#plt.savefig('figures/publicly_available_data/SLAMF7proportions_Monocytes_LifeLines.svg', bbox_inches = 'tight')"
   ]
  },
  {
   "cell_type": "code",
   "execution_count": 90,
   "id": "6a12c727-44e1-4fa4-893d-42c5abdb7437",
   "metadata": {},
   "outputs": [
    {
     "data": {
      "text/plain": [
       "Text(0.5, 1.0, 'SLAMF7(+) vs SLAMF7(-) Monocyte TNF hallmark')"
      ]
     },
     "execution_count": 90,
     "metadata": {},
     "output_type": "execute_result"
    },
    {
     "data": {
      "image/png": "[encoded data removed]",
      "text/plain": [
       "<Figure size 640x480 with 1 Axes>"
      ]
     },
     "metadata": {},
     "output_type": "display_data"
    }
   ],
   "source": [
    "new_rc_params = {\n",
    "\"font.family\": 'Times',\n",
    "\"font.size\": 8,\n",
    "\"font.serif\": [],\n",
    "\"svg.fonttype\": 'none'} #to store text as text, not as path\n",
    "plt.rcParams.update(new_rc_params)\n",
    "\n",
    "##################################################\n",
    "#### EGAD  - SLAMF7 pos vs neg in HallmarkTNF ####\n",
    "##################################################\n",
    "slamf7_hallmark = pd.DataFrame(columns = ['medianHallmark','posOrNeg', 'sex'])\n",
    "ct = 'Monocyte'\n",
    "\n",
    "#Download data from https://www.nature.com/articles/s41467-022-30893-5\n",
    "egad = sc.read('insert data from Oelen et al pathway')\n",
    "\n",
    "egad = egad[egad.obs.timepoint.str.contains('TB')]\n",
    "sc.pp.normalize_total(egad, target_sum = 1e4)\n",
    "egad.obs.age_fixed = egad.obs.age_fixed.astype(int)\n",
    "egad.obs.celltype = egad.obs.celltype.replace('monocyte', 'Monocyte')\n",
    "egad = egad[egad.obs.age_fixed < 50]\n",
    "stim_v1_egad = egad[(egad.obs.sex == 'F') & (egad.obs.celltype == ct)].to_df()\n",
    "stim_v2_egad = egad[(egad.obs.sex == 'M') & (egad.obs.celltype == ct)].to_df()\n",
    "\n",
    "hallmark = hallmark_tnf\n",
    "gene = 'SLAMF7'\n",
    "v1_slamf7_n = stim_v1_egad[stim_v1_egad[gene] == 0]\n",
    "v1_slamf7_p = stim_v1_egad[stim_v1_egad[gene] > 0]\n",
    "\n",
    "v2_slamf7_n = stim_v2_egad[stim_v2_egad[gene] == 0]\n",
    "v2_slamf7_p = stim_v2_egad[stim_v2_egad[gene] > 0]    \n",
    "\n",
    "slamf7_hallmark.loc['female - negative'] = [np.median(np.sum(v1_slamf7_n[v1_slamf7_n.columns[v1_slamf7_n.columns.isin(hallmark)]], axis = 1)), 'negative', 'TB - female']\n",
    "slamf7_hallmark.loc['female - positive'] = [np.median(np.sum(v1_slamf7_p[v1_slamf7_p.columns[v1_slamf7_p.columns.isin(hallmark)]], axis = 1)), 'positive', 'TB - female']\n",
    "\n",
    "slamf7_hallmark.loc['male - negative'] = [np.median(np.sum(v2_slamf7_n[v2_slamf7_n.columns[v2_slamf7_n.columns.isin(hallmark)]], axis = 1)), 'negative', 'TB - male']\n",
    "slamf7_hallmark.loc['male - positive'] = [np.median(np.sum(v2_slamf7_p[v2_slamf7_p.columns[v2_slamf7_p.columns.isin(hallmark)]], axis = 1)), 'positive', 'TB - male']\n",
    "\n",
    "slamf7_props = slamf7_hallmark#pd.concat([slamf7_hallmark.loc[['LPS-V2negative', 'LPS-V2positive', 'LPS-V1negative', 'LPS-V1positive']], slamf7_hallmark_EGAD_TB, slamf7_hallmark_COVID])\n",
    "\n",
    "sns.barplot(slamf7_props, x = 'sex', y = 'medianHallmark', hue = 'posOrNeg') #rasterized to make \"less vectors\" as svg - maybe easier to work with in Illustrator?\n",
    "plt.xticks(rotation = 45, ha = 'right', rotation_mode=\"anchor\")\n",
    "plt.legend(bbox_to_anchor=(1.3, 1))\n",
    "plt.title('SLAMF7(+) vs SLAMF7(-) '+ct+ ' TNF hallmark')\n",
    "\n",
    "#plt.savefig('figures/publicly_available_data/SLAMF7hallmarkTNF_Monocytes_LifeLines.svg')"
   ]
  },
  {
   "cell_type": "code",
   "execution_count": 92,
   "id": "763eea6c-d36c-4832-b4d3-95d63af384de",
   "metadata": {},
   "outputs": [],
   "source": [
    "female_pos = np.sum(v1_slamf7_p[v1_slamf7_p.columns[v1_slamf7_p.columns.isin(hallmark)]], axis = 1)\n",
    "female_neg = np.sum(v1_slamf7_n[v1_slamf7_n.columns[v1_slamf7_n.columns.isin(hallmark)]], axis = 1)\n",
    "\n",
    "male_pos = np.sum(v2_slamf7_p[v2_slamf7_p.columns[v2_slamf7_p.columns.isin(hallmark)]], axis = 1)\n",
    "male_neg = np.sum(v2_slamf7_n[v2_slamf7_n.columns[v2_slamf7_n.columns.isin(hallmark)]], axis = 1)"
   ]
  },
  {
   "cell_type": "code",
   "execution_count": 94,
   "id": "59388dbd-7e36-4266-ad7a-84bcaffd3218",
   "metadata": {},
   "outputs": [
    {
     "name": "stdout",
     "output_type": "stream",
     "text": [
      "Ttest_indResult(statistic=11.651727388509524, pvalue=4.670064137926737e-31)\n",
      "Ttest_indResult(statistic=9.976403678672257, pvalue=2.81635609794493e-23)\n"
     ]
    }
   ],
   "source": [
    "print(scipy.stats.ttest_ind(np.log1p(female_pos), np.log1p(female_neg)))\n",
    "print(scipy.stats.ttest_ind(np.log1p(male_pos), np.log1p(male_neg)))"
   ]
  },
  {
   "cell_type": "code",
   "execution_count": null,
   "id": "8835064a-72eb-4dff-b779-cb6b18d6366d",
   "metadata": {},
   "outputs": [],
   "source": []
  },
  {
   "cell_type": "code",
   "execution_count": null,
   "id": "877628cb-f773-48ad-8751-afac3606ebce",
   "metadata": {},
   "outputs": [],
   "source": []
  },
  {
   "cell_type": "markdown",
   "id": "a48b629b-4106-474a-aa93-7f997f26d9bf",
   "metadata": {
    "tags": []
   },
   "source": [
    "# Figure 5g and 5h - NK cells MTB-stimuli and IFNg expression in LifeLines (EGAD)"
   ]
  },
  {
   "cell_type": "code",
   "execution_count": 64,
   "id": "0c54a298-6d67-45d3-83c9-30b71c1beca4",
   "metadata": {},
   "outputs": [],
   "source": [
    "### EGAD NK ###\n",
    "#Download data from https://www.nature.com/articles/s41467-022-30893-5\n",
    "egad = sc.read('insert data from Oelen et al pathway')\n",
    "\n",
    "sc.pp.normalize_total(egad, target_sum = 1e4)\n",
    "egad.obs.age_fixed = egad.obs.age_fixed.astype(int)\n",
    "egad = egad[egad.obs.age_fixed < 50]\n",
    "\n",
    "egad_3hmtb = egad[egad.obs.timepoint.str.contains('3hMTB')] #For NK\n",
    "egad_24hmtb = egad[egad.obs.timepoint.str.contains('24hMTB')] #For NK\n",
    "\n",
    "\n",
    "dfm_3h = egad_3hmtb[(egad_3hmtb.obs.sex == 'M') & (egad_3hmtb.obs.celltype == 'NK')].to_df()\n",
    "dff_3h = egad_3hmtb[(egad_3hmtb.obs.sex == 'F') & (egad_3hmtb.obs.celltype == 'NK')].to_df()\n",
    "\n",
    "dfm_24h = egad_24hmtb[(egad_24hmtb.obs.sex == 'M') & (egad_24hmtb.obs.celltype == 'NK')].to_df()\n",
    "dff_24h = egad_24hmtb[(egad_24hmtb.obs.sex == 'F') & (egad_24hmtb.obs.celltype == 'NK')].to_df()\n"
   ]
  },
  {
   "cell_type": "code",
   "execution_count": 81,
   "id": "c219d140-cef5-42cf-845e-88626b532e4d",
   "metadata": {},
   "outputs": [
    {
     "name": "stdout",
     "output_type": "stream",
     "text": [
      "Ttest_indResult(statistic=7.767769784619205, pvalue=9.639032981727553e-15)\n",
      "Ttest_indResult(statistic=-4.027968530440523, pvalue=5.713542745095849e-05)\n"
     ]
    },
    {
     "data": {
      "text/plain": [
       "Text(0.5, 0.98, 'Mean Gene Expression - LifeLines\\nNK in 3h and 24hTB-stim')"
      ]
     },
     "execution_count": 81,
     "metadata": {},
     "output_type": "execute_result"
    },
    {
     "data": {
      "image/png": "[encoded data removed]",
      "text/plain": [
       "<Figure size 1200x400 with 2 Axes>"
      ]
     },
     "metadata": {},
     "output_type": "display_data"
    }
   ],
   "source": [
    "fig, ax = plt.subplots(1,2, figsize = (12,4))\n",
    "# Data for the genes and their corresponding means for males and females\n",
    "ifng_m = np.mean(dfm_3h['IFNG'])\n",
    "ifng_f = np.mean(dff_3h['IFNG'])\n",
    "\n",
    "data = {\n",
    "    'Gene': ['IFNG', 'IFNG'],\n",
    "    'Gender': ['m', 'f'],\n",
    "    'Mean': [ifng_m, ifng_f]\n",
    "}\n",
    "\n",
    "# Creating a DataFrame\n",
    "df = pd.DataFrame(data)\n",
    "sns.barplot(y='Gene', x='Mean', hue='Gender', data=df, ax = ax[0], hue_order = ['f', 'm'])\n",
    "ax[0].set_title('3h MTB stimulation')\n",
    "ax[0].set_xlabel('Gene')\n",
    "ax[0].set_ylabel('Mean Expression')\n",
    "\n",
    "print(scipy.stats.ttest_ind(np.log1p(dff_3h['IFNG']), np.log1p(dfm_3h['IFNG'])))\n",
    "\n",
    "ifng_m = np.mean(dfm_24h['IFNG'])\n",
    "ifng_f = np.mean(dff_24h['IFNG'])\n",
    "\n",
    "data = {\n",
    "    'Gene': ['IFNG', 'IFNG'],\n",
    "    'Gender': ['m', 'f'],\n",
    "    'Mean': [ifng_m, ifng_f]\n",
    "}\n",
    "\n",
    "# Creating a DataFrame\n",
    "df = pd.DataFrame(data)\n",
    "sns.barplot(y='Gene', x='Mean', hue='Gender', data=df, ax = ax[1], hue_order = ['f', 'm'])\n",
    "ax[1].set_title('24h MTB stimulation')\n",
    "ax[1].set_xlabel('Gene')\n",
    "ax[1].set_ylabel('Mean Expression')\n",
    "\n",
    "print(scipy.stats.ttest_ind(np.log1p(dff_24h['IFNG']), np.log1p(dfm_24h['IFNG'])))\n",
    "      \n",
    "plt.suptitle('Mean Gene Expression - LifeLines\\nNK in 3h and 24hTB-stim')\n",
    "\n",
    "#plt.savefig('LifeLines_NK-24hTBstim_IFNG_SLAMF7_genes_barplot.pdf', bbox_inches = 'tight')"
   ]
  },
  {
   "cell_type": "code",
   "execution_count": null,
   "id": "ffe8f9a6-c93e-4363-91d2-1c466d7c6e1d",
   "metadata": {},
   "outputs": [],
   "source": []
  }
 ],
 "metadata": {
  "kernelspec": {
   "display_name": "Python 3 (ipykernel)",
   "language": "python",
   "name": "python3"
  },
  "language_info": {
   "codemirror_mode": {
    "name": "ipython",
    "version": 3
   },
   "file_extension": ".py",
   "mimetype": "text/x-python",
   "name": "python",
   "nbconvert_exporter": "python",
   "pygments_lexer": "ipython3",
   "version": "3.10.6"
  }
 },
 "nbformat": 4,
 "nbformat_minor": 5
}
